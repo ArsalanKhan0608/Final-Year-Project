{
 "cells": [
  {
   "cell_type": "code",
   "execution_count": null,
   "metadata": {
    "_cell_guid": "b1076dfc-b9ad-4769-8c92-a6c4dae69d19",
    "_uuid": "8f2839f25d086af736a60e9eeb907d3b93b6e0e5",
    "execution": {
     "iopub.execute_input": "2021-06-10T06:35:56.210552Z",
     "iopub.status.busy": "2021-06-10T06:35:56.210059Z",
     "iopub.status.idle": "2021-06-10T06:35:56.220513Z",
     "shell.execute_reply": "2021-06-10T06:35:56.218854Z",
     "shell.execute_reply.started": "2021-06-10T06:35:56.210515Z"
    }
   },
   "outputs": [],
   "source": [
    "import numpy as np # linear algebra\n",
    "import pandas as pd # data processing, CSV file I/O (e.g. pd.read_csv)\n",
    "import matplotlib.pyplot as plt\n",
    "import seaborn as sns\n",
    "# import plotly.plotly as px\n",
    "# import plotly as px\n",
    "from plotly import plotly as px\n",
    "import plotly.graph_objs as go\n",
    "from plotly import tools\n",
    "from plotly.offline import init_notebook_mode, plot, iplot\n",
    "\n",
    "import os\n",
    "for dirname, _, filenames in os.walk(''):\n",
    "    for filename in filenames:\n",
    "        print(os.path.join(dirname, filename))"
   ]
  },
  {
   "cell_type": "code",
   "execution_count": null,
   "metadata": {
    "execution": {
     "iopub.execute_input": "2021-06-10T06:35:56.22345Z",
     "iopub.status.busy": "2021-06-10T06:35:56.222972Z",
     "iopub.status.idle": "2021-06-10T06:35:56.252925Z",
     "shell.execute_reply": "2021-06-10T06:35:56.251487Z",
     "shell.execute_reply.started": "2021-06-10T06:35:56.223402Z"
    }
   },
   "outputs": [],
   "source": [
    "data=pd.read_csv('Rainfall_1901_2016_PAK.csv')\n",
    "data"
   ]
  },
  {
   "cell_type": "code",
   "execution_count": null,
   "metadata": {
    "execution": {
     "iopub.execute_input": "2021-06-10T06:35:56.256425Z",
     "iopub.status.busy": "2021-06-10T06:35:56.25608Z",
     "iopub.status.idle": "2021-06-10T06:35:56.261817Z",
     "shell.execute_reply": "2021-06-10T06:35:56.261116Z",
     "shell.execute_reply.started": "2021-06-10T06:35:56.256388Z"
    }
   },
   "outputs": [],
   "source": [
    "data.shape"
   ]
  },
  {
   "cell_type": "code",
   "execution_count": null,
   "metadata": {
    "execution": {
     "iopub.execute_input": "2021-06-10T06:35:56.275995Z",
     "iopub.status.busy": "2021-06-10T06:35:56.275602Z",
     "iopub.status.idle": "2021-06-10T06:35:56.281316Z",
     "shell.execute_reply": "2021-06-10T06:35:56.280353Z",
     "shell.execute_reply.started": "2021-06-10T06:35:56.275965Z"
    }
   },
   "outputs": [],
   "source": [
    "data.columns"
   ]
  },
  {
   "cell_type": "code",
   "execution_count": null,
   "metadata": {
    "execution": {
     "iopub.execute_input": "2021-06-10T06:35:56.30466Z",
     "iopub.status.busy": "2021-06-10T06:35:56.304287Z",
     "iopub.status.idle": "2021-06-10T06:35:56.312687Z",
     "shell.execute_reply": "2021-06-10T06:35:56.311606Z",
     "shell.execute_reply.started": "2021-06-10T06:35:56.304627Z"
    }
   },
   "outputs": [],
   "source": [
    "data.rename(columns={'Rainfall - (MM)':'Rainfall-(mm)',' Year':'Year'},inplace=True)\n",
    "data.columns"
   ]
  },
  {
   "cell_type": "code",
   "execution_count": null,
   "metadata": {
    "execution": {
     "iopub.execute_input": "2021-06-10T06:35:56.317312Z",
     "iopub.status.busy": "2021-06-10T06:35:56.316745Z",
     "iopub.status.idle": "2021-06-10T06:35:56.336523Z",
     "shell.execute_reply": "2021-06-10T06:35:56.334794Z",
     "shell.execute_reply.started": "2021-06-10T06:35:56.317257Z"
    }
   },
   "outputs": [],
   "source": [
    "data.head(10)"
   ]
  },
  {
   "cell_type": "markdown",
   "metadata": {},
   "source": [
    "# Analysis and Visualize Rainfall During Year 2000 to 2016 "
   ]
  },
  {
   "cell_type": "code",
   "execution_count": null,
   "metadata": {},
   "outputs": [],
   "source": []
  },
  {
   "cell_type": "code",
   "execution_count": null,
   "metadata": {
    "execution": {
     "iopub.execute_input": "2021-06-10T06:35:56.339685Z",
     "iopub.status.busy": "2021-06-10T06:35:56.339145Z",
     "iopub.status.idle": "2021-06-10T06:35:56.4835Z",
     "shell.execute_reply": "2021-06-10T06:35:56.482062Z",
     "shell.execute_reply.started": "2021-06-10T06:35:56.339629Z"
    }
   },
   "outputs": [],
   "source": [
    "plt.figure(figsize=(15,15))\n",
    "plt.title('Rainfall During 1990 to 2016')\n",
    "plt.bar(data.loc[(data.Year>=1990)][\"Year\"], data.loc[(data.Year>=1990)][\"Rainfall-(mm)\"], align='center', alpha=0.5)\n",
    "plt.ylabel('Rain')\n",
    "\n",
    "plt.show()\n",
    "# graph=px.bar(data.loc[(data.Year>=1990)],x=\"Year\",y=\"Rainfall-(mm)\",hover_name='Month',color='Month',title='Rainfall During 2000 to 2016')\n",
    "# graph.show()"
   ]
  },
  {
   "cell_type": "code",
   "execution_count": null,
   "metadata": {},
   "outputs": [],
   "source": [
    "!pip install chart-studio\n"
   ]
  },
  {
   "cell_type": "markdown",
   "metadata": {},
   "source": [
    "# Analysis and Visualize Rainfall During Year 2000 to 2016 Using Animation Bar"
   ]
  },
  {
   "cell_type": "code",
   "execution_count": null,
   "metadata": {
    "execution": {
     "iopub.execute_input": "2021-06-10T06:35:56.486314Z",
     "iopub.status.busy": "2021-06-10T06:35:56.485947Z",
     "iopub.status.idle": "2021-06-10T06:35:57.482359Z",
     "shell.execute_reply": "2021-06-10T06:35:57.481342Z",
     "shell.execute_reply.started": "2021-06-10T06:35:56.486278Z"
    }
   },
   "outputs": [],
   "source": [
    "\n",
    "plt.figure(figsize=(15,15))\n",
    "plt.title('Rainfall During 2000 to 2016')\n",
    "plt.bar(data.loc[(data.Year>=2000)][\"Year\"], data.loc[(data.Year>=2000)][\"Rainfall-(mm)\"], align='center', alpha=0.5)\n",
    "plt.ylabel('Rain')\n",
    "\n",
    "plt.show()"
   ]
  },
  {
   "cell_type": "markdown",
   "metadata": {},
   "source": [
    "# Analysis rainfall during Year 1980 to 2000 Using Line Chart"
   ]
  },
  {
   "cell_type": "code",
   "execution_count": null,
   "metadata": {
    "execution": {
     "iopub.execute_input": "2021-06-10T06:35:57.484534Z",
     "iopub.status.busy": "2021-06-10T06:35:57.484172Z",
     "iopub.status.idle": "2021-06-10T06:35:57.625155Z",
     "shell.execute_reply": "2021-06-10T06:35:57.623831Z",
     "shell.execute_reply.started": "2021-06-10T06:35:57.484496Z"
    }
   },
   "outputs": [],
   "source": [
    "plt.figure(figsize=(15,15))\n",
    "plt.title('Rainfall during Year 1980 to 2000 Using Line Chart')\n",
    "plt.plot(data.loc[(data.Year>=1980)].loc[(data.Year<=2000)]['Year'],data.loc[(data.Year>=1980)].loc[(data.Year<=2000)]['Rainfall-(mm)'])\n",
    "plt.show()"
   ]
  },
  {
   "cell_type": "code",
   "execution_count": null,
   "metadata": {
    "execution": {
     "iopub.execute_input": "2021-06-10T06:35:57.627484Z",
     "iopub.status.busy": "2021-06-10T06:35:57.627072Z",
     "iopub.status.idle": "2021-06-10T06:35:57.802Z",
     "shell.execute_reply": "2021-06-10T06:35:57.800911Z",
     "shell.execute_reply.started": "2021-06-10T06:35:57.627448Z"
    }
   },
   "outputs": [],
   "source": [
    "sel=data[{'Year','Rainfall-(mm)'}].loc[(data.Year>=1980)].loc[(data.Year<=2000)].loc[(data.Month==\"June\")]\n",
    "print(sel)\n",
    "plt.plot(sel,sel['Year'],sel['Rainfall-(mm)'])\n",
    "plt.show()\n",
    "sel1=data[{'Year','Rainfall-(mm)'}].loc[(data.Year>=2001)].loc[(data.Year<=2016)].loc[(data.Month==\"June\")]\n",
    "plt.plot(sel1['Year'],sel1['Rainfall-(mm)'])\n",
    "plt.show()"
   ]
  },
  {
   "cell_type": "markdown",
   "metadata": {},
   "source": [
    "# Comaparison Between rainfall During 1980 to 2000 and 2001 to 2016 in the month of July"
   ]
  },
  {
   "cell_type": "code",
   "execution_count": null,
   "metadata": {
    "execution": {
     "iopub.execute_input": "2021-06-10T06:35:57.803757Z",
     "iopub.status.busy": "2021-06-10T06:35:57.803288Z",
     "iopub.status.idle": "2021-06-10T06:35:57.971751Z",
     "shell.execute_reply": "2021-06-10T06:35:57.970818Z",
     "shell.execute_reply.started": "2021-06-10T06:35:57.803722Z"
    }
   },
   "outputs": [],
   "source": [
    "sel=data[{'Year','Rainfall-(mm)','Month'}].loc[(data.Year>=1980)].loc[(data.Year<=2000)].loc[(data.Month==\"July\")]\n",
    "graph=px.line(sel,x='Year',y='Rainfall-(mm)',color='Month',range_x=[1979,2001],text='Rainfall-(mm)',title='Rainfall in July Year 1980 to 2000')\n",
    "graph.update_traces(texttemplate='%{text:.4s}',textposition='top center')\n",
    "graph.show()\n",
    "sel1=data[{'Year','Rainfall-(mm)','Month'}].loc[(data.Year>=2001)].loc[(data.Year<=2016)].loc[(data.Month==\"July\")]\n",
    "graph1=px.line(sel1,x='Year',y='Rainfall-(mm)',color='Month',range_x=[2000,2017],text='Rainfall-(mm)',title='Rainfall in July during Year 2001 to 2016')\n",
    "graph1.update_traces(texttemplate='%{text:.4s}',textposition='top center')\n",
    "graph1.show()"
   ]
  },
  {
   "cell_type": "markdown",
   "metadata": {},
   "source": [
    "# Comaparison Between rainfall During 1980 to 2000 and 2001 to 2016 in the month of August"
   ]
  },
  {
   "cell_type": "code",
   "execution_count": null,
   "metadata": {
    "execution": {
     "iopub.execute_input": "2021-06-10T06:35:57.974083Z",
     "iopub.status.busy": "2021-06-10T06:35:57.973547Z",
     "iopub.status.idle": "2021-06-10T06:35:58.150706Z",
     "shell.execute_reply": "2021-06-10T06:35:58.149495Z",
     "shell.execute_reply.started": "2021-06-10T06:35:57.974046Z"
    }
   },
   "outputs": [],
   "source": [
    "sel=data[{'Year','Rainfall-(mm)','Month'}].loc[(data.Year>=1980)].loc[(data.Year<=2000)].loc[(data.Month==\"August\")]\n",
    "graph=px.line(sel,x='Year',y='Rainfall-(mm)',color='Month',range_x=[1979,2001],text='Rainfall-(mm)',title='Rainfall in August Year 1980 to 2000')\n",
    "graph.update_traces(texttemplate='%{text:.4s}',textposition='top center')\n",
    "graph.show()\n",
    "sel1=data[{'Year','Rainfall-(mm)','Month'}].loc[(data.Year>=2001)].loc[(data.Year<=2016)].loc[(data.Month==\"August\")]\n",
    "graph1=px.line(sel1,x='Year',y='Rainfall-(mm)',color='Month',range_x=[2000,2017],text='Rainfall-(mm)',title='Rainfall in August during Year 2001 to 2016')\n",
    "graph1.update_traces(texttemplate='%{text:.4s}',textposition='top center')\n",
    "graph1.show()"
   ]
  },
  {
   "cell_type": "markdown",
   "metadata": {},
   "source": [
    "# Number of Percent Rainfall during Year 2000 to 2016 "
   ]
  },
  {
   "cell_type": "code",
   "execution_count": null,
   "metadata": {
    "execution": {
     "iopub.execute_input": "2021-06-10T06:35:58.152808Z",
     "iopub.status.busy": "2021-06-10T06:35:58.152272Z",
     "iopub.status.idle": "2021-06-10T06:35:58.220651Z",
     "shell.execute_reply": "2021-06-10T06:35:58.21964Z",
     "shell.execute_reply.started": "2021-06-10T06:35:58.152731Z"
    }
   },
   "outputs": [],
   "source": [
    "sel=data[{'Rainfall-(mm)','Year'}].loc[(data.Year>=2000)]\n",
    "\n",
    "fig=px.pie(sel,values='Rainfall-(mm)',color='Year',names='Year',labels='Year',width=800,height=600,hole=0.5,title='Number of Percent Rainfall  Year during 2000 to 2016')\n",
    "fig.show()"
   ]
  }
 ],
 "metadata": {
  "kernelspec": {
   "display_name": "Python 3",
   "language": "python",
   "name": "python3"
  },
  "language_info": {
   "codemirror_mode": {
    "name": "ipython",
    "version": 3
   },
   "file_extension": ".py",
   "mimetype": "text/x-python",
   "name": "python",
   "nbconvert_exporter": "python",
   "pygments_lexer": "ipython3",
   "version": "3.7.10"
  }
 },
 "nbformat": 4,
 "nbformat_minor": 4
}
