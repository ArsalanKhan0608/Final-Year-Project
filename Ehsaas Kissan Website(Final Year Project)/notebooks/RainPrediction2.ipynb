{
 "cells": [
  {
   "cell_type": "code",
   "execution_count": null,
   "id": "instrumental-technical",
   "metadata": {
    "id": "instrumental-technical"
   },
   "outputs": [],
   "source": [
    "import numpy as np\n",
    "import pandas as pd\n",
    "import matplotlib.pyplot as plt\n",
    "import seaborn as sns\n",
    "from sklearn import preprocessing\n",
    "import scipy.stats as stats\n",
    "from sklearn.model_selection import train_test_split\n",
    "from collections import Counter\n",
    "from imblearn.over_sampling import SMOTE\n",
    "from sklearn.metrics import accuracy_score,confusion_matrix,classification_report\n",
    "from sklearn import metrics\n",
    "from sklearn.ensemble import RandomForestClassifier\n",
    "from catboost import CatBoostClassifier\n",
    "from xgboost import XGBClassifier\n",
    "from sklearn.svm import SVC\n",
    "from sklearn.linear_model import LogisticRegression\n",
    "from sklearn.naive_bayes import GaussianNB\n",
    "from sklearn.neighbors import KNeighborsClassifier\n",
    "import joblib"
   ]
  },
  {
   "cell_type": "code",
   "execution_count": null,
   "id": "modern-klein",
   "metadata": {
    "colab": {
     "base_uri": "https://localhost:8080/",
     "height": 590
    },
    "id": "modern-klein",
    "outputId": "15cd93a4-91c4-48b7-9c88-34d032de77a3"
   },
   "outputs": [],
   "source": [
    "df = pd.read_csv(\"weatherAUS.csv\")\n",
    "pd.set_option(\"display.max_columns\", None)\n",
    "df"
   ]
  },
  {
   "cell_type": "code",
   "execution_count": null,
   "id": "present-present",
   "metadata": {
    "colab": {
     "base_uri": "https://localhost:8080/"
    },
    "id": "present-present",
    "outputId": "93f77888-41cc-462b-b273-fb3ea67fcb16"
   },
   "outputs": [],
   "source": [
    "numerical_feature = [feature for feature in df.columns if df[feature].dtypes != 'O']\n",
    "discrete_feature=[feature for feature in numerical_feature if len(df[feature].unique())<25]\n",
    "continuous_feature = [feature for feature in numerical_feature if feature not in discrete_feature]\n",
    "categorical_feature = [feature for feature in df.columns if feature not in numerical_feature]\n",
    "print(\"Numerical Features Count {}\".format(len(numerical_feature)))\n",
    "print(\"Discrete feature Count {}\".format(len(discrete_feature)))\n",
    "print(\"Continuous feature Count {}\".format(len(continuous_feature)))\n",
    "print(\"Categorical feature Count {}\".format(len(categorical_feature)))"
   ]
  },
  {
   "cell_type": "code",
   "execution_count": null,
   "id": "final-magazine",
   "metadata": {
    "colab": {
     "base_uri": "https://localhost:8080/"
    },
    "id": "final-magazine",
    "outputId": "db192dcb-3779-4861-b49e-f7c5d3065111"
   },
   "outputs": [],
   "source": [
    "# Handle Missing Values\n",
    "df.isnull().sum()*100/len(df)"
   ]
  },
  {
   "cell_type": "code",
   "execution_count": null,
   "id": "medical-company",
   "metadata": {
    "colab": {
     "base_uri": "https://localhost:8080/"
    },
    "id": "medical-company",
    "outputId": "60b294d2-9ec2-4603-c2cd-ffb13d1eb476"
   },
   "outputs": [],
   "source": [
    "print(numerical_feature)"
   ]
  },
  {
   "cell_type": "code",
   "execution_count": null,
   "id": "standard-shower",
   "metadata": {
    "id": "standard-shower"
   },
   "outputs": [],
   "source": [
    "def randomsampleimputation(df, variable):\n",
    "    df[variable]=df[variable]\n",
    "    random_sample=df[variable].dropna().sample(df[variable].isnull().sum(),random_state=0)\n",
    "    random_sample.index=df[df[variable].isnull()].index\n",
    "    df.loc[df[variable].isnull(),variable]=random_sample"
   ]
  },
  {
   "cell_type": "code",
   "execution_count": null,
   "id": "previous-argument",
   "metadata": {
    "id": "previous-argument"
   },
   "outputs": [],
   "source": [
    "randomsampleimputation(df, \"Cloud9am\")\n",
    "randomsampleimputation(df, \"Cloud3pm\")\n",
    "randomsampleimputation(df, \"Evaporation\")\n",
    "randomsampleimputation(df, \"Sunshine\")"
   ]
  },
  {
   "cell_type": "code",
   "execution_count": null,
   "id": "blank-boring",
   "metadata": {
    "colab": {
     "base_uri": "https://localhost:8080/",
     "height": 590
    },
    "id": "blank-boring",
    "outputId": "977bffe3-87ca-46f5-f4c8-80def357b63f"
   },
   "outputs": [],
   "source": [
    "df"
   ]
  },
  {
   "cell_type": "code",
   "execution_count": null,
   "id": "arbitrary-typing",
   "metadata": {
    "colab": {
     "base_uri": "https://localhost:8080/",
     "height": 1000
    },
    "id": "arbitrary-typing",
    "outputId": "32b3669b-cc3c-4820-d5d1-839b4b4a5585"
   },
   "outputs": [],
   "source": [
    "corrmat = df.corr(method = \"spearman\")\n",
    "plt.figure(figsize=(20,20))\n",
    "#plot heat map\n",
    "g=sns.heatmap(corrmat,annot=True)"
   ]
  },
  {
   "cell_type": "code",
   "execution_count": null,
   "id": "improving-copyright",
   "metadata": {
    "colab": {
     "base_uri": "https://localhost:8080/",
     "height": 1000
    },
    "id": "improving-copyright",
    "outputId": "4fe4e201-dbc1-474f-8fc0-404da21486c8"
   },
   "outputs": [],
   "source": [
    "for feature in continuous_feature:\n",
    "    data=df.copy()\n",
    "    sns.distplot(df[feature])\n",
    "    plt.xlabel(feature)\n",
    "    plt.ylabel(\"Count\")\n",
    "    plt.title(feature)\n",
    "    plt.figure(figsize=(15,15))\n",
    "    plt.show()"
   ]
  },
  {
   "cell_type": "code",
   "execution_count": null,
   "id": "numerous-poland",
   "metadata": {
    "colab": {
     "base_uri": "https://localhost:8080/",
     "height": 1000
    },
    "id": "numerous-poland",
    "outputId": "4e451db4-0b1c-4718-d5fe-a4815e160459"
   },
   "outputs": [],
   "source": [
    "#A for loop is used to plot a boxplot for all the continuous features to see the outliers\n",
    "for feature in continuous_feature:\n",
    "    data=df.copy()\n",
    "    sns.boxplot(data[feature])\n",
    "    plt.title(feature)\n",
    "    plt.figure(figsize=(15,15))"
   ]
  },
  {
   "cell_type": "code",
   "execution_count": null,
   "id": "noted-platform",
   "metadata": {
    "id": "noted-platform"
   },
   "outputs": [],
   "source": [
    "for feature in continuous_feature:\n",
    "    if(df[feature].isnull().sum()*100/len(df))>0:\n",
    "        df[feature] = df[feature].fillna(df[feature].median())"
   ]
  },
  {
   "cell_type": "code",
   "execution_count": null,
   "id": "covered-nancy",
   "metadata": {
    "colab": {
     "base_uri": "https://localhost:8080/"
    },
    "id": "covered-nancy",
    "outputId": "a1e30659-6845-4ade-b791-c352e691e8da"
   },
   "outputs": [],
   "source": [
    "df.isnull().sum()*100/len(df)"
   ]
  },
  {
   "cell_type": "code",
   "execution_count": null,
   "id": "earned-lewis",
   "metadata": {
    "colab": {
     "base_uri": "https://localhost:8080/"
    },
    "id": "earned-lewis",
    "outputId": "dad9fc5f-013c-4d4b-8cb0-8c88be8f96f6"
   },
   "outputs": [],
   "source": [
    "discrete_feature"
   ]
  },
  {
   "cell_type": "code",
   "execution_count": null,
   "id": "wrong-assault",
   "metadata": {
    "id": "wrong-assault"
   },
   "outputs": [],
   "source": [
    "def mode_nan(df,variable):\n",
    "    mode=df[variable].value_counts().index[0]\n",
    "    df[variable].fillna(mode,inplace=True)\n",
    "mode_nan(df,\"Cloud9am\")\n",
    "mode_nan(df,\"Cloud3pm\")"
   ]
  },
  {
   "cell_type": "code",
   "execution_count": null,
   "id": "regulation-democrat",
   "metadata": {
    "colab": {
     "base_uri": "https://localhost:8080/",
     "height": 590
    },
    "id": "regulation-democrat",
    "outputId": "bba5cbf6-0d7d-49b7-ad53-43cb6a837dfc"
   },
   "outputs": [],
   "source": [
    "df[\"RainToday\"] = pd.get_dummies(df[\"RainToday\"], drop_first = True)\n",
    "df[\"RainTomorrow\"] = pd.get_dummies(df[\"RainTomorrow\"], drop_first = True)\n",
    "df"
   ]
  },
  {
   "cell_type": "code",
   "execution_count": null,
   "id": "harmful-batch",
   "metadata": {
    "colab": {
     "base_uri": "https://localhost:8080/"
    },
    "id": "harmful-batch",
    "outputId": "24348dd1-79f2-48cf-ab2d-bec5bc1c20c7"
   },
   "outputs": [],
   "source": [
    "for feature in categorical_feature:\n",
    "    print(feature, (df.groupby([feature])[\"RainTomorrow\"].mean().sort_values(ascending = False)).index)"
   ]
  },
  {
   "cell_type": "code",
   "execution_count": null,
   "id": "brief-opening",
   "metadata": {
    "id": "brief-opening"
   },
   "outputs": [],
   "source": [
    "windgustdir = {'NNW':0, 'NW':1, 'WNW':2, 'N':3, 'W':4, 'WSW':5, 'NNE':6, 'S':7, 'SSW':8, 'SW':9, 'SSE':10,\n",
    "       'NE':11, 'SE':12, 'ESE':13, 'ENE':14, 'E':15}\n",
    "winddir9am = {'NNW':0, 'N':1, 'NW':2, 'NNE':3, 'WNW':4, 'W':5, 'WSW':6, 'SW':7, 'SSW':8, 'NE':9, 'S':10,\n",
    "       'SSE':11, 'ENE':12, 'SE':13, 'ESE':14, 'E':15}\n",
    "winddir3pm = {'NW':0, 'NNW':1, 'N':2, 'WNW':3, 'W':4, 'NNE':5, 'WSW':6, 'SSW':7, 'S':8, 'SW':9, 'SE':10,\n",
    "       'NE':11, 'SSE':12, 'ENE':13, 'E':14, 'ESE':15}\n",
    "df[\"WindGustDir\"] = df[\"WindGustDir\"].map(windgustdir)\n",
    "df[\"WindDir9am\"] = df[\"WindDir9am\"].map(winddir9am)\n",
    "df[\"WindDir3pm\"] = df[\"WindDir3pm\"].map(winddir3pm)"
   ]
  },
  {
   "cell_type": "code",
   "execution_count": null,
   "id": "private-yahoo",
   "metadata": {
    "id": "private-yahoo"
   },
   "outputs": [],
   "source": [
    "df[\"WindGustDir\"] = df[\"WindGustDir\"].fillna(df[\"WindGustDir\"].value_counts().index[0])\n",
    "df[\"WindDir9am\"] = df[\"WindDir9am\"].fillna(df[\"WindDir9am\"].value_counts().index[0])\n",
    "df[\"WindDir3pm\"] = df[\"WindDir3pm\"].fillna(df[\"WindDir3pm\"].value_counts().index[0])"
   ]
  },
  {
   "cell_type": "code",
   "execution_count": null,
   "id": "instant-wedding",
   "metadata": {
    "colab": {
     "base_uri": "https://localhost:8080/"
    },
    "id": "instant-wedding",
    "outputId": "6b7c5e6c-4edd-495b-9526-cbb70e8eb147"
   },
   "outputs": [],
   "source": [
    "df.isnull().sum()*100/len(df)"
   ]
  },
  {
   "cell_type": "code",
   "execution_count": null,
   "id": "south-lightning",
   "metadata": {
    "id": "south-lightning"
   },
   "outputs": [],
   "source": [
    "df1 = df.groupby([\"Location\"])[\"RainTomorrow\"].value_counts().sort_values().unstack()"
   ]
  },
  {
   "cell_type": "code",
   "execution_count": null,
   "id": "answering-stand",
   "metadata": {},
   "outputs": [],
   "source": [
    "df1"
   ]
  },
  {
   "cell_type": "code",
   "execution_count": null,
   "id": "decent-monitoring",
   "metadata": {},
   "outputs": [],
   "source": [
    "df1[1].sort_values(ascending = False)"
   ]
  },
  {
   "cell_type": "code",
   "execution_count": null,
   "id": "blessed-sociology",
   "metadata": {},
   "outputs": [],
   "source": [
    "df1[1].sort_values(ascending = False).index"
   ]
  },
  {
   "cell_type": "code",
   "execution_count": null,
   "id": "detailed-deposit",
   "metadata": {},
   "outputs": [],
   "source": [
    "len(df1[1].sort_values(ascending = False).index)"
   ]
  },
  {
   "cell_type": "code",
   "execution_count": null,
   "id": "liable-equality",
   "metadata": {},
   "outputs": [],
   "source": [
    "location = {'Portland':1, 'Cairns':2, 'Walpole':3, 'Dartmoor':4, 'MountGambier':5,\n",
    "       'NorfolkIsland':6, 'Albany':7, 'Witchcliffe':8, 'CoffsHarbour':9, 'Sydney':10,\n",
    "       'Darwin':11, 'MountGinini':12, 'NorahHead':13, 'Ballarat':14, 'GoldCoast':15,\n",
    "       'SydneyAirport':16, 'Hobart':17, 'Watsonia':18, 'Newcastle':19, 'Wollongong':20,\n",
    "       'Brisbane':21, 'Williamtown':22, 'Launceston':23, 'Adelaide':24, 'MelbourneAirport':25,\n",
    "       'Perth':26, 'Sale':27, 'Melbourne':28, 'Canberra':29, 'Albury':30, 'Penrith':31,\n",
    "       'Nuriootpa':32, 'BadgerysCreek':33, 'Tuggeranong':34, 'PerthAirport':35, 'Bendigo':36,\n",
    "       'Richmond':37, 'WaggaWagga':38, 'Townsville':39, 'PearceRAAF':40, 'SalmonGums':41,\n",
    "       'Moree':42, 'Cobar':43, 'Mildura':44, 'Katherine':45, 'AliceSprings':46, 'Nhil':47,\n",
    "       'Woomera':48, 'Uluru':49}\n",
    "df[\"Location\"] = df[\"Location\"].map(location)"
   ]
  },
  {
   "cell_type": "code",
   "execution_count": null,
   "id": "fantastic-marijuana",
   "metadata": {
    "id": "fantastic-marijuana"
   },
   "outputs": [],
   "source": [
    "df[\"Date\"] = pd.to_datetime(df[\"Date\"], format = \"%Y-%m-%dT\", errors = \"coerce\")"
   ]
  },
  {
   "cell_type": "code",
   "execution_count": null,
   "id": "adaptive-salmon",
   "metadata": {
    "id": "adaptive-salmon"
   },
   "outputs": [],
   "source": [
    "df[\"Date_month\"] = df[\"Date\"].dt.month\n",
    "df[\"Date_day\"] = df[\"Date\"].dt.day"
   ]
  },
  {
   "cell_type": "code",
   "execution_count": null,
   "id": "nuclear-clause",
   "metadata": {
    "colab": {
     "base_uri": "https://localhost:8080/",
     "height": 590
    },
    "id": "nuclear-clause",
    "outputId": "32244b46-7f57-4002-c55b-347606488229"
   },
   "outputs": [],
   "source": [
    "df"
   ]
  },
  {
   "cell_type": "code",
   "execution_count": null,
   "id": "strange-mongolia",
   "metadata": {
    "colab": {
     "base_uri": "https://localhost:8080/",
     "height": 1000
    },
    "id": "strange-mongolia",
    "outputId": "71f2e77e-fbbf-4c00-9f33-43ddece81c3e"
   },
   "outputs": [],
   "source": [
    "corrmat = df.corr()\n",
    "plt.figure(figsize=(20,20))\n",
    "#plot heat map\n",
    "g=sns.heatmap(corrmat,annot=True)"
   ]
  },
  {
   "cell_type": "code",
   "execution_count": null,
   "id": "compound-discussion",
   "metadata": {
    "colab": {
     "base_uri": "https://localhost:8080/",
     "height": 350
    },
    "id": "compound-discussion",
    "outputId": "eaaf7397-5c4a-49b8-d5aa-efd8586b150b"
   },
   "outputs": [],
   "source": [
    "sns.countplot(df[\"RainTomorrow\"])"
   ]
  },
  {
   "cell_type": "code",
   "execution_count": null,
   "id": "broadband-donna",
   "metadata": {},
   "outputs": [],
   "source": [
    "df"
   ]
  },
  {
   "cell_type": "code",
   "execution_count": null,
   "id": "aggressive-present",
   "metadata": {},
   "outputs": [],
   "source": [
    "for feature in continuous_feature:\n",
    "    data=df.copy()\n",
    "    sns.boxplot(data[feature])\n",
    "    plt.title(feature)\n",
    "    plt.figure(figsize=(15,15))"
   ]
  },
  {
   "cell_type": "code",
   "execution_count": null,
   "id": "incoming-personal",
   "metadata": {
    "scrolled": false
   },
   "outputs": [],
   "source": [
    "for feature in continuous_feature:\n",
    "    print(feature)"
   ]
  },
  {
   "cell_type": "code",
   "execution_count": null,
   "id": "herbal-regard",
   "metadata": {},
   "outputs": [],
   "source": [
    "IQR=df.MinTemp.quantile(0.75)-df.MinTemp.quantile(0.25)\n",
    "lower_bridge=df.MinTemp.quantile(0.25)-(IQR*1.5)\n",
    "upper_bridge=df.MinTemp.quantile(0.75)+(IQR*1.5)\n",
    "print(lower_bridge, upper_bridge)"
   ]
  },
  {
   "cell_type": "code",
   "execution_count": null,
   "id": "rapid-marine",
   "metadata": {},
   "outputs": [],
   "source": [
    "df.loc[df['MinTemp']>=30.45,'MinTemp']=30.45\n",
    "df.loc[df['MinTemp']<=-5.95,'MinTemp']=-5.95"
   ]
  },
  {
   "cell_type": "code",
   "execution_count": null,
   "id": "inside-yesterday",
   "metadata": {},
   "outputs": [],
   "source": [
    "IQR=df.MaxTemp.quantile(0.75)-df.MaxTemp.quantile(0.25)\n",
    "lower_bridge=df.MaxTemp.quantile(0.25)-(IQR*1.5)\n",
    "upper_bridge=df.MaxTemp.quantile(0.75)+(IQR*1.5)\n",
    "print(lower_bridge, upper_bridge)"
   ]
  },
  {
   "cell_type": "code",
   "execution_count": null,
   "id": "molecular-working",
   "metadata": {},
   "outputs": [],
   "source": [
    "df.loc[df['MaxTemp']>=43.5,'MaxTemp']=43.5\n",
    "df.loc[df['MaxTemp']<=2.7,'MaxTemp']=2.7"
   ]
  },
  {
   "cell_type": "code",
   "execution_count": null,
   "id": "matched-surgeon",
   "metadata": {},
   "outputs": [],
   "source": [
    "IQR=df.Rainfall.quantile(0.75)-df.Rainfall.quantile(0.25)\n",
    "lower_bridge=df.Rainfall.quantile(0.25)-(IQR*1.5)\n",
    "upper_bridge=df.Rainfall.quantile(0.75)+(IQR*1.5)\n",
    "print(lower_bridge, upper_bridge)"
   ]
  },
  {
   "cell_type": "code",
   "execution_count": null,
   "id": "silver-evolution",
   "metadata": {},
   "outputs": [],
   "source": [
    "df.loc[df['Rainfall']>=1.5,'Rainfall']=1.5\n",
    "df.loc[df['Rainfall']<=-0.89,'Rainfall']=-0.89"
   ]
  },
  {
   "cell_type": "code",
   "execution_count": null,
   "id": "laughing-horizon",
   "metadata": {},
   "outputs": [],
   "source": [
    "IQR=df.Evaporation.quantile(0.75)-df.Evaporation.quantile(0.25)\n",
    "lower_bridge=df.Evaporation.quantile(0.25)-(IQR*1.5)\n",
    "upper_bridge=df.Evaporation.quantile(0.75)+(IQR*1.5)\n",
    "print(lower_bridge, upper_bridge)"
   ]
  },
  {
   "cell_type": "code",
   "execution_count": null,
   "id": "alternate-niger",
   "metadata": {},
   "outputs": [],
   "source": [
    "df.loc[df['Evaporation']>=14.6,'Evaporation']=14.6\n",
    "df.loc[df['Evaporation']<=-4.6,'Evaporation']=-4.6"
   ]
  },
  {
   "cell_type": "code",
   "execution_count": null,
   "id": "younger-volume",
   "metadata": {},
   "outputs": [],
   "source": [
    "IQR=df.WindGustSpeed.quantile(0.75)-df.WindGustSpeed.quantile(0.25)\n",
    "lower_bridge=df.WindGustSpeed.quantile(0.25)-(IQR*1.5)\n",
    "upper_bridge=df.WindGustSpeed.quantile(0.75)+(IQR*1.5)\n",
    "print(lower_bridge, upper_bridge)"
   ]
  },
  {
   "cell_type": "code",
   "execution_count": null,
   "id": "independent-dallas",
   "metadata": {},
   "outputs": [],
   "source": [
    "df.loc[df['WindGustSpeed']>=68.5,'WindGustSpeed']=68.5\n",
    "df.loc[df['WindGustSpeed']<=8.5,'WindGustSpeed']=8.5"
   ]
  },
  {
   "cell_type": "code",
   "execution_count": null,
   "id": "simple-latitude",
   "metadata": {},
   "outputs": [],
   "source": [
    "IQR=df.WindSpeed9am.quantile(0.75)-df.WindSpeed9am.quantile(0.25)\n",
    "lower_bridge=df.WindSpeed9am.quantile(0.25)-(IQR*1.5)\n",
    "upper_bridge=df.WindSpeed9am.quantile(0.75)+(IQR*1.5)\n",
    "print(lower_bridge, upper_bridge)"
   ]
  },
  {
   "cell_type": "code",
   "execution_count": null,
   "id": "chubby-penalty",
   "metadata": {},
   "outputs": [],
   "source": [
    "df.loc[df['WindSpeed9am']>=37,'WindSpeed9am']=37\n",
    "df.loc[df['WindSpeed9am']<=-11,'WindSpeed9am']=-11"
   ]
  },
  {
   "cell_type": "code",
   "execution_count": null,
   "id": "russian-filter",
   "metadata": {},
   "outputs": [],
   "source": [
    "IQR=df.WindSpeed3pm.quantile(0.75)-df.WindSpeed3pm.quantile(0.25)\n",
    "lower_bridge=df.WindSpeed3pm.quantile(0.25)-(IQR*1.5)\n",
    "upper_bridge=df.WindSpeed3pm.quantile(0.75)+(IQR*1.5)\n",
    "print(lower_bridge, upper_bridge)"
   ]
  },
  {
   "cell_type": "code",
   "execution_count": null,
   "id": "suburban-kennedy",
   "metadata": {},
   "outputs": [],
   "source": [
    "df.loc[df['WindSpeed3pm']>40.5,'WindSpeed3pm']=40.5\n",
    "df.loc[df['WindSpeed3pm']<=-3.5,'WindSpeed3pm']=-3.5"
   ]
  },
  {
   "cell_type": "code",
   "execution_count": null,
   "id": "saving-packaging",
   "metadata": {},
   "outputs": [],
   "source": [
    "IQR=df.Humidity9am.quantile(0.75)-df.Humidity9am.quantile(0.25)\n",
    "lower_bridge=df.Humidity9am.quantile(0.25)-(IQR*1.5)\n",
    "upper_bridge=df.Humidity9am.quantile(0.75)+(IQR*1.5)\n",
    "print(lower_bridge, upper_bridge)"
   ]
  },
  {
   "cell_type": "code",
   "execution_count": null,
   "id": "objective-arrest",
   "metadata": {},
   "outputs": [],
   "source": [
    "df.loc[df['Humidity9am']>=122,'Humidity9am']=122\n",
    "df.loc[df['Humidity9am']<=18,'Humidity9am']=18"
   ]
  },
  {
   "cell_type": "code",
   "execution_count": null,
   "id": "reverse-cycle",
   "metadata": {},
   "outputs": [],
   "source": [
    "IQR=df.Pressure9am.quantile(0.75)-df.Pressure9am.quantile(0.25)\n",
    "lower_bridge=df.Pressure9am.quantile(0.25)-(IQR*1.5)\n",
    "upper_bridge=df.Pressure9am.quantile(0.75)+(IQR*1.5)\n",
    "print(lower_bridge, upper_bridge)"
   ]
  },
  {
   "cell_type": "code",
   "execution_count": null,
   "id": "hawaiian-chemistry",
   "metadata": {},
   "outputs": [],
   "source": [
    "df.loc[df['Pressure9am']>=1034.25,'Pressure9am']=1034.25\n",
    "df.loc[df['Pressure9am']<=1001.05,'Pressure9am']=1001.05"
   ]
  },
  {
   "cell_type": "code",
   "execution_count": null,
   "id": "removed-wrapping",
   "metadata": {},
   "outputs": [],
   "source": [
    "IQR=df.Pressure3pm.quantile(0.75)-df.Pressure3pm.quantile(0.25)\n",
    "lower_bridge=df.Pressure3pm.quantile(0.25)-(IQR*1.5)\n",
    "upper_bridge=df.Pressure3pm.quantile(0.75)+(IQR*1.5)\n",
    "print(lower_bridge, upper_bridge)"
   ]
  },
  {
   "cell_type": "code",
   "execution_count": null,
   "id": "signed-cradle",
   "metadata": {},
   "outputs": [],
   "source": [
    "df.loc[df['Pressure3pm']>=1031.85,'Pressure3pm']=1031.85\n",
    "df.loc[df['Pressure3pm']<=998.65,'Pressure3pm']=998.65"
   ]
  },
  {
   "cell_type": "code",
   "execution_count": null,
   "id": "accompanied-belarus",
   "metadata": {},
   "outputs": [],
   "source": [
    "IQR=df.Temp9am.quantile(0.75)-df.Temp9am.quantile(0.25)\n",
    "lower_bridge=df.Temp9am.quantile(0.25)-(IQR*1.5)\n",
    "upper_bridge=df.Temp9am.quantile(0.75)+(IQR*1.5)\n",
    "print(lower_bridge, upper_bridge)"
   ]
  },
  {
   "cell_type": "code",
   "execution_count": null,
   "id": "above-footwear",
   "metadata": {},
   "outputs": [],
   "source": [
    "df.loc[df['Temp9am']>=35.3,'Temp9am']=35.3\n",
    "df.loc[df['Temp9am']<=-1.49,'Temp9am']=-1.49"
   ]
  },
  {
   "cell_type": "code",
   "execution_count": null,
   "id": "exotic-transparency",
   "metadata": {},
   "outputs": [],
   "source": [
    "IQR=df.Temp3pm.quantile(0.75)-df.Temp3pm.quantile(0.25)\n",
    "lower_bridge=df.Temp3pm.quantile(0.25)-(IQR*1.5)\n",
    "upper_bridge=df.Temp3pm.quantile(0.75)+(IQR*1.5)\n",
    "print(lower_bridge, upper_bridge)"
   ]
  },
  {
   "cell_type": "code",
   "execution_count": null,
   "id": "figured-saint",
   "metadata": {},
   "outputs": [],
   "source": [
    "df.loc[df['Temp3pm']>=40.45,'Temp3pm']=40.45\n",
    "df.loc[df['Temp3pm']<=2.45,'Temp3pm']=2.45"
   ]
  },
  {
   "cell_type": "code",
   "execution_count": null,
   "id": "quality-intermediate",
   "metadata": {},
   "outputs": [],
   "source": [
    "for feature in continuous_feature:\n",
    "    data=df.copy()\n",
    "    sns.boxplot(data[feature])\n",
    "    plt.title(feature)\n",
    "    plt.figure(figsize=(15,15))"
   ]
  },
  {
   "cell_type": "code",
   "execution_count": null,
   "id": "czech-timothy",
   "metadata": {},
   "outputs": [],
   "source": [
    "def qq_plots(df, variable):\n",
    "    plt.figure(figsize=(15,6))\n",
    "    plt.subplot(1, 2, 1)\n",
    "    df[variable].hist()\n",
    "    plt.subplot(1, 2, 2)\n",
    "    stats.probplot(df[variable], dist=\"norm\", plot=plt)\n",
    "    plt.show()"
   ]
  },
  {
   "cell_type": "code",
   "execution_count": null,
   "id": "eastern-packing",
   "metadata": {},
   "outputs": [],
   "source": [
    "for feature in continuous_feature:\n",
    "    print(feature)\n",
    "    plt.figure(figsize=(15,6))\n",
    "    plt.subplot(1, 2, 1)\n",
    "    df[feature].hist()\n",
    "    plt.subplot(1, 2, 2)\n",
    "    stats.probplot(df[feature], dist=\"norm\", plot=plt)\n",
    "    plt.show()"
   ]
  },
  {
   "cell_type": "code",
   "execution_count": null,
   "id": "DQSf6RHT5PCH",
   "metadata": {
    "id": "DQSf6RHT5PCH"
   },
   "outputs": [],
   "source": [
    "df.to_csv(\"preprocessed_1.csv\", index=False)"
   ]
  },
  {
   "cell_type": "code",
   "execution_count": null,
   "id": "varied-august",
   "metadata": {
    "id": "varied-august"
   },
   "outputs": [],
   "source": [
    "X = df.drop([\"RainTomorrow\", \"Date\"], axis=1)\n",
    "Y = df[\"RainTomorrow\"]"
   ]
  },
  {
   "cell_type": "code",
   "execution_count": null,
   "id": "successful-northwest",
   "metadata": {
    "id": "successful-northwest"
   },
   "outputs": [],
   "source": [
    "# scaler = RobustScaler()\n",
    "# X_scaled = scaler.fit_transform(X)"
   ]
  },
  {
   "cell_type": "code",
   "execution_count": null,
   "id": "moving-leather",
   "metadata": {
    "id": "moving-leather"
   },
   "outputs": [],
   "source": [
    "X_train, X_test, y_train, y_test = train_test_split(X,Y, test_size =0.2, stratify = Y, random_state = 0)"
   ]
  },
  {
   "cell_type": "code",
   "execution_count": null,
   "id": "fifth-continent",
   "metadata": {
    "colab": {
     "base_uri": "https://localhost:8080/"
    },
    "id": "fifth-continent",
    "outputId": "1d60467d-86b2-48b8-bf31-c7dcdc45ee68"
   },
   "outputs": [],
   "source": [
    "y_train"
   ]
  },
  {
   "cell_type": "code",
   "execution_count": null,
   "id": "running-joining",
   "metadata": {
    "colab": {
     "base_uri": "https://localhost:8080/"
    },
    "id": "running-joining",
    "outputId": "5efa36ae-7cbd-4f1e-da2a-2a88de3f431b"
   },
   "outputs": [],
   "source": [
    "cat = CatBoostClassifier(iterations=200, eval_metric = \"AUC\")\n",
    "cat.fit(X_train, y_train)"
   ]
  },
  {
   "cell_type": "code",
   "execution_count": null,
   "id": "dependent-editor",
   "metadata": {
    "colab": {
     "base_uri": "https://localhost:8080/"
    },
    "id": "dependent-editor",
    "outputId": "93400096-eb60-4744-e940-3b62fba3c822"
   },
   "outputs": [],
   "source": [
    "y_pred = cat.predict(X_test)\n",
    "print(confusion_matrix(y_test,y_pred))\n",
    "print(accuracy_score(y_test,y_pred))\n",
    "print(classification_report(y_test,y_pred))"
   ]
  },
  {
   "cell_type": "code",
   "execution_count": null,
   "id": "q8Ujcbyc_UKA",
   "metadata": {
    "colab": {
     "base_uri": "https://localhost:8080/",
     "height": 296
    },
    "id": "q8Ujcbyc_UKA",
    "outputId": "21581f39-4d5b-4f7c-b61e-36613e67d6a3"
   },
   "outputs": [],
   "source": [
    "metrics.plot_roc_curve(cat, X_test, y_test)\n",
    "metrics.roc_auc_score(y_test, y_pred, average=None) "
   ]
  },
  {
   "cell_type": "code",
   "execution_count": null,
   "id": "bored-paraguay",
   "metadata": {
    "colab": {
     "base_uri": "https://localhost:8080/"
    },
    "id": "bored-paraguay",
    "outputId": "b697bf3e-0c99-4368-e543-a9589a78d71e"
   },
   "outputs": [],
   "source": [
    "rf=RandomForestClassifier()\n",
    "rf.fit(X_train,y_train)\n"
   ]
  },
  {
   "cell_type": "code",
   "execution_count": null,
   "id": "compact-poetry",
   "metadata": {
    "colab": {
     "base_uri": "https://localhost:8080/"
    },
    "id": "compact-poetry",
    "outputId": "4f8c9d7a-8e61-4639-b10c-50a9432778f4"
   },
   "outputs": [],
   "source": [
    "y_pred1 = rf.predict(X_test)\n",
    "print(confusion_matrix(y_test,y_pred1))\n",
    "print(accuracy_score(y_test,y_pred1))\n",
    "print(classification_report(y_test,y_pred1))"
   ]
  },
  {
   "cell_type": "code",
   "execution_count": null,
   "id": "1i6mevuy-aq2",
   "metadata": {
    "colab": {
     "base_uri": "https://localhost:8080/",
     "height": 296
    },
    "id": "1i6mevuy-aq2",
    "outputId": "d8dbc13a-533f-4bdd-9754-182ad08cf28d"
   },
   "outputs": [],
   "source": [
    "metrics.plot_roc_curve(rf, X_test, y_test)\n",
    "metrics.roc_auc_score(y_test, y_pred1, average=None) "
   ]
  },
  {
   "cell_type": "code",
   "execution_count": null,
   "id": "s3EsHlWnAKJ-",
   "metadata": {
    "colab": {
     "base_uri": "https://localhost:8080/"
    },
    "id": "s3EsHlWnAKJ-",
    "outputId": "b547eca5-edbf-433f-ec4a-0eb194778533"
   },
   "outputs": [],
   "source": [
    "logreg = LogisticRegression()\n",
    "logreg.fit(X_train, y_train)\n"
   ]
  },
  {
   "cell_type": "code",
   "execution_count": null,
   "id": "pEGFfVplBzDO",
   "metadata": {
    "colab": {
     "base_uri": "https://localhost:8080/"
    },
    "id": "pEGFfVplBzDO",
    "outputId": "e10018bb-19bf-414e-f324-1dbc0b5d50ca"
   },
   "outputs": [],
   "source": [
    "y_pred2 = logreg.predict(X_test)\n",
    "print(confusion_matrix(y_test,y_pred2))\n",
    "print(accuracy_score(y_test,y_pred2))\n",
    "print(classification_report(y_test,y_pred2))"
   ]
  },
  {
   "cell_type": "code",
   "execution_count": null,
   "id": "wtzSMSu1B8GX",
   "metadata": {
    "colab": {
     "base_uri": "https://localhost:8080/",
     "height": 296
    },
    "id": "wtzSMSu1B8GX",
    "outputId": "d77542a1-5cdc-4d1c-f3e4-ff1204db10c7"
   },
   "outputs": [],
   "source": [
    "metrics.plot_roc_curve(logreg, X_test, y_test)\n",
    "metrics.roc_auc_score(y_test, y_pred2, average=None) "
   ]
  },
  {
   "cell_type": "code",
   "execution_count": null,
   "id": "RXRDWDvfEqlL",
   "metadata": {
    "colab": {
     "base_uri": "https://localhost:8080/"
    },
    "id": "RXRDWDvfEqlL",
    "outputId": "a9513a95-72ae-4e2f-ad3a-c1e0a495a0f0"
   },
   "outputs": [],
   "source": [
    "gnb = GaussianNB()\n",
    "gnb.fit(X_train, y_train)"
   ]
  },
  {
   "cell_type": "code",
   "execution_count": null,
   "id": "cLZhG0njFNiw",
   "metadata": {
    "colab": {
     "base_uri": "https://localhost:8080/"
    },
    "id": "cLZhG0njFNiw",
    "outputId": "92282429-0a6a-4153-e1bb-853174964161"
   },
   "outputs": [],
   "source": [
    "y_pred3 = gnb.predict(X_test)\n",
    "print(confusion_matrix(y_test,y_pred3))\n",
    "print(accuracy_score(y_test,y_pred3))\n",
    "print(classification_report(y_test,y_pred3))\n"
   ]
  },
  {
   "cell_type": "code",
   "execution_count": null,
   "id": "8RVuLzPmFVDZ",
   "metadata": {
    "colab": {
     "base_uri": "https://localhost:8080/",
     "height": 296
    },
    "id": "8RVuLzPmFVDZ",
    "outputId": "8b2ebbcd-4bcf-4e33-c3ee-a288781ab310"
   },
   "outputs": [],
   "source": [
    "metrics.plot_roc_curve(gnb, X_test, y_test)\n",
    "metrics.roc_auc_score(y_test, y_pred3, average=None) "
   ]
  },
  {
   "cell_type": "code",
   "execution_count": null,
   "id": "3g2CH3xYFaxk",
   "metadata": {
    "colab": {
     "base_uri": "https://localhost:8080/"
    },
    "id": "3g2CH3xYFaxk",
    "outputId": "e7de7101-c530-4aab-f57a-8eb5e4288fdb"
   },
   "outputs": [],
   "source": [
    "knn = KNeighborsClassifier(n_neighbors=3)\n",
    "knn.fit(X_train, y_train)"
   ]
  },
  {
   "cell_type": "code",
   "execution_count": null,
   "id": "__G42nPBFrDS",
   "metadata": {
    "colab": {
     "base_uri": "https://localhost:8080/"
    },
    "id": "__G42nPBFrDS",
    "outputId": "7d0b6f95-9f9d-4717-f461-e1eb8ea276fa"
   },
   "outputs": [],
   "source": [
    "y_pred4 = knn.predict(X_test)\n",
    "print(confusion_matrix(y_test,y_pred4))\n",
    "print(accuracy_score(y_test,y_pred4))\n",
    "print(classification_report(y_test,y_pred4))"
   ]
  },
  {
   "cell_type": "code",
   "execution_count": null,
   "id": "3S8HNxa6H5u-",
   "metadata": {
    "colab": {
     "base_uri": "https://localhost:8080/",
     "height": 296
    },
    "id": "3S8HNxa6H5u-",
    "outputId": "1abfef90-207c-420d-b082-d836702bd46e"
   },
   "outputs": [],
   "source": [
    "metrics.plot_roc_curve(knn, X_test, y_test)\n",
    "metrics.roc_auc_score(y_test, y_pred4, average=None) "
   ]
  },
  {
   "cell_type": "code",
   "execution_count": null,
   "id": "G6WmyMlzQPxg",
   "metadata": {
    "colab": {
     "base_uri": "https://localhost:8080/"
    },
    "id": "G6WmyMlzQPxg",
    "outputId": "db8fdd64-433c-4238-dcfe-19ee7808c3d0"
   },
   "outputs": [],
   "source": [
    "xgb = XGBClassifier()\n",
    "xgb.fit(X_train, y_train)"
   ]
  },
  {
   "cell_type": "code",
   "execution_count": null,
   "id": "b4_deZ48Qc_G",
   "metadata": {
    "colab": {
     "base_uri": "https://localhost:8080/"
    },
    "id": "b4_deZ48Qc_G",
    "outputId": "5887c11b-e9a9-45fa-d6e1-4940addbeb42"
   },
   "outputs": [],
   "source": [
    "y_pred6 = xgb.predict(X_test)\n",
    "print(confusion_matrix(y_test,y_pred6))\n",
    "print(accuracy_score(y_test,y_pred6))\n",
    "print(classification_report(y_test,y_pred6))"
   ]
  },
  {
   "cell_type": "code",
   "execution_count": null,
   "id": "SXO3V58yQiu-",
   "metadata": {
    "colab": {
     "base_uri": "https://localhost:8080/",
     "height": 296
    },
    "id": "SXO3V58yQiu-",
    "outputId": "cd38ff3b-5e90-41db-f124-d7e3b14f371b"
   },
   "outputs": [],
   "source": [
    "metrics.plot_roc_curve(xgb, X_test, y_test)\n",
    "metrics.roc_auc_score(y_test, y_pred6, average=None) "
   ]
  },
  {
   "cell_type": "code",
   "execution_count": null,
   "id": "F3PZLmU3JG5v",
   "metadata": {
    "colab": {
     "base_uri": "https://localhost:8080/"
    },
    "id": "F3PZLmU3JG5v",
    "outputId": "b19f3033-2c43-4a2c-ca42-8499b2253a39"
   },
   "outputs": [],
   "source": [
    "svc = SVC()\n",
    "svc.fit(X_train_res, y_train_res)"
   ]
  },
  {
   "cell_type": "code",
   "execution_count": null,
   "id": "5aNgUy2FJMmt",
   "metadata": {
    "colab": {
     "base_uri": "https://localhost:8080/"
    },
    "id": "5aNgUy2FJMmt",
    "outputId": "1e325fad-68b5-4435-a1cc-6169fa17a466"
   },
   "outputs": [],
   "source": [
    "y_pred5 = svc.predict(X_test)\n",
    "print(confusion_matrix(y_test,y_pred5))\n",
    "print(accuracy_score(y_test,y_pred5))\n",
    "print(classification_report(y_test,y_pred5))"
   ]
  },
  {
   "cell_type": "code",
   "execution_count": null,
   "id": "AgWPQe_qQKG6",
   "metadata": {
    "colab": {
     "base_uri": "https://localhost:8080/",
     "height": 296
    },
    "id": "AgWPQe_qQKG6",
    "outputId": "5ca142dd-54ca-4ae7-e813-3ee102f56104"
   },
   "outputs": [],
   "source": [
    "metrics.plot_roc_curve(svc, X_test, y_test)\n",
    "metrics.roc_auc_score(y_test, y_pred5, average=None) "
   ]
  },
  {
   "cell_type": "code",
   "execution_count": null,
   "id": "qk2FwpZnQuuP",
   "metadata": {
    "id": "qk2FwpZnQuuP"
   },
   "outputs": [],
   "source": [
    "# joblib.dump(rf, \"rf.pkl\")\n",
    "# joblib.dump(cat, \"cat.pkl\")\n",
    "# joblib.dump(logreg, \"logreg.pkl\")\n",
    "# joblib.dump(gnb, \"gnb.pkl\")\n",
    "# joblib.dump(knn, \"knn.pkl\")\n",
    "joblib.dump(svc, \"svc.pkl\")\n",
    "joblib.dump(xgb, \"xgb.pkl\")"
   ]
  },
  {
   "cell_type": "code",
   "execution_count": null,
   "id": "934e9a28",
   "metadata": {},
   "outputs": [],
   "source": [
    "import matplotlib.pyplot as plt\n",
    "import seaborn as sns\n",
    "acc=[0.85,0.85,0.83,0.78]\n",
    "model=['CatBoostClassifier','RandomForestClassifier','LogisticRegression','GaussianNB']\n",
    "plt.figure(figsize=[10,5],dpi = 100)\n",
    "plt.title('Accuracy Comparison')\n",
    "plt.xlabel('Accuracy')\n",
    "plt.ylabel('Algorithm')\n",
    "sns.barplot(x =model,y = acc,palette='dark',orient='v')"
   ]
  },
  {
   "cell_type": "code",
   "execution_count": null,
   "id": "91d31ba1",
   "metadata": {},
   "outputs": [],
   "source": []
  }
 ],
 "metadata": {
  "accelerator": "GPU",
  "colab": {
   "name": "Preprocessing.ipynb",
   "provenance": []
  },
  "kernelspec": {
   "display_name": "Python 3",
   "language": "python",
   "name": "python3"
  },
  "language_info": {
   "codemirror_mode": {
    "name": "ipython",
    "version": 3
   },
   "file_extension": ".py",
   "mimetype": "text/x-python",
   "name": "python",
   "nbconvert_exporter": "python",
   "pygments_lexer": "ipython3",
   "version": "3.7.10"
  }
 },
 "nbformat": 4,
 "nbformat_minor": 5
}
