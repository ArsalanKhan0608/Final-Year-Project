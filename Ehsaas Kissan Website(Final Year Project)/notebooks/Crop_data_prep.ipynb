{
 "cells": [
  {
   "cell_type": "markdown",
   "metadata": {},
   "source": [
    "## Notebook for transforming raw cpdata to Mergable data\n"
   ]
  },
  {
   "cell_type": "markdown",
   "metadata": {},
   "source": [
    "### Filter cpdata.csv to MergeFileCrop.cv\n",
    "### Filter fertilizer.csv to MergerFileFert.csv"
   ]
  },
  {
   "cell_type": "code",
   "execution_count": null,
   "metadata": {},
   "outputs": [],
   "source": [
    "import pandas as pd"
   ]
  },
  {
   "cell_type": "code",
   "execution_count": null,
   "metadata": {},
   "outputs": [],
   "source": [
    "# Reading the data \n",
    "\n",
    "crop_data_path = '../Data-raw/cpdata.csv'\n",
    "fertilizer_data_path = '../Data-raw/Fertilizer.csv'\n",
    "\n",
    "crop = pd.read_csv(crop_data_path)\n",
    "fert = pd.read_csv(fertilizer_data_path)"
   ]
  },
  {
   "cell_type": "code",
   "execution_count": null,
   "metadata": {},
   "outputs": [],
   "source": [
    "crop.head()"
   ]
  },
  {
   "cell_type": "code",
   "execution_count": null,
   "metadata": {},
   "outputs": [],
   "source": [
    "fert.head()"
   ]
  },
  {
   "cell_type": "code",
   "execution_count": null,
   "metadata": {},
   "outputs": [],
   "source": [
    "# Function for lowering the cases\n",
    "def change_case(i):\n",
    "    i = i.replace(\" \", \"\")\n",
    "    i = i.lower()\n",
    "    return i"
   ]
  },
  {
   "cell_type": "code",
   "execution_count": null,
   "metadata": {},
   "outputs": [],
   "source": [
    "fert['Crop'] = fert['Crop'].apply(change_case)\n",
    "crop['label'] = crop['label'].apply(change_case)"
   ]
  },
  {
   "cell_type": "code",
   "execution_count": null,
   "metadata": {},
   "outputs": [],
   "source": [
    "#make some changes in ferttilizer dataset\n",
    "\n",
    "fert['Crop'] = fert['Crop'].replace('mungbeans','mungbean')\n",
    "fert['Crop'] = fert['Crop'].replace('lentils(masoordal)','lentil')\n",
    "fert['Crop'] = fert['Crop'].replace('pigeonpeas(toordal)','pigeonpeas')\n",
    "fert['Crop'] = fert['Crop'].replace('mothbean(matki)','mothbeans')\n",
    "fert['Crop'] = fert['Crop'].replace('chickpeas(channa)','chickpea')"
   ]
  },
  {
   "cell_type": "code",
   "execution_count": null,
   "metadata": {},
   "outputs": [],
   "source": [
    "crop.head()"
   ]
  },
  {
   "cell_type": "code",
   "execution_count": null,
   "metadata": {},
   "outputs": [],
   "source": [
    "crop.tail()"
   ]
  },
  {
   "cell_type": "code",
   "execution_count": null,
   "metadata": {},
   "outputs": [],
   "source": [
    "crop_names = crop['label'].unique()\n",
    "crop_names"
   ]
  },
  {
   "cell_type": "code",
   "execution_count": null,
   "metadata": {},
   "outputs": [],
   "source": [
    "fert.head()"
   ]
  },
  {
   "cell_type": "code",
   "execution_count": null,
   "metadata": {},
   "outputs": [],
   "source": [
    "del fert['Unnamed: 0']"
   ]
  },
  {
   "cell_type": "code",
   "execution_count": null,
   "metadata": {},
   "outputs": [],
   "source": [
    "crop_names_from_fert = fert['Crop'].unique()\n",
    "crop_names_from_fert"
   ]
  },
  {
   "cell_type": "code",
   "execution_count": null,
   "metadata": {},
   "outputs": [],
   "source": [
    "for i in crop_names_from_fert:\n",
    "    print(crop[crop['label'] == i])"
   ]
  },
  {
   "cell_type": "code",
   "execution_count": null,
   "metadata": {},
   "outputs": [],
   "source": [
    "crop['label']"
   ]
  },
  {
   "cell_type": "code",
   "execution_count": null,
   "metadata": {},
   "outputs": [],
   "source": [
    "extract_labels = []\n",
    "for i in crop_names_from_fert:\n",
    "    if i in crop_names:\n",
    "        extract_labels.append(i)"
   ]
  },
  {
   "cell_type": "code",
   "execution_count": null,
   "metadata": {},
   "outputs": [],
   "source": [
    "# using extract labesl on crop to get all the data related to those labels\n",
    "new_crop = pd.DataFrame(columns = crop.columns)\n",
    "new_fert = pd.DataFrame(columns = fert.columns)"
   ]
  },
  {
   "cell_type": "code",
   "execution_count": null,
   "metadata": {},
   "outputs": [],
   "source": [
    "for label in extract_labels:\n",
    "    new_crop = new_crop.append(crop[crop['label'] == label])"
   ]
  },
  {
   "cell_type": "code",
   "execution_count": null,
   "metadata": {},
   "outputs": [],
   "source": [
    "for label in extract_labels:\n",
    "    new_fert = new_fert.append(fert[fert['Crop'] == label].iloc[0])"
   ]
  },
  {
   "cell_type": "code",
   "execution_count": null,
   "metadata": {},
   "outputs": [],
   "source": [
    "new_crop"
   ]
  },
  {
   "cell_type": "code",
   "execution_count": null,
   "metadata": {},
   "outputs": [],
   "source": [
    "new_fert"
   ]
  },
  {
   "cell_type": "code",
   "execution_count": null,
   "metadata": {},
   "outputs": [],
   "source": [
    "new_crop.to_csv('../Data-raw/MergeFileCrop.csv')\n",
    "new_fert.to_csv('../Data-raw/FertilizerData.csv')"
   ]
  }
 ],
 "metadata": {
  "kernelspec": {
   "display_name": "Python 3",
   "language": "python",
   "name": "python3"
  },
  "language_info": {
   "codemirror_mode": {
    "name": "ipython",
    "version": 3
   },
   "file_extension": ".py",
   "mimetype": "text/x-python",
   "name": "python",
   "nbconvert_exporter": "python",
   "pygments_lexer": "ipython3",
   "version": "3.7.10"
  }
 },
 "nbformat": 4,
 "nbformat_minor": 4
}
