{
 "cells": [
  {
   "cell_type": "markdown",
   "metadata": {
    "papermill": {
     "duration": 0.013176,
     "end_time": "2020-09-29T17:10:17.787528",
     "exception": false,
     "start_time": "2020-09-29T17:10:17.774352",
     "status": "completed"
    },
    "tags": []
   },
   "source": [
    "![](https://wallpaperaccess.com/full/803470.jpg)"
   ]
  },
  {
   "cell_type": "code",
   "execution_count": null,
   "metadata": {
    "_cell_guid": "b1076dfc-b9ad-4769-8c92-a6c4dae69d19",
    "_uuid": "8f2839f25d086af736a60e9eeb907d3b93b6e0e5",
    "execution": {
     "iopub.execute_input": "2020-09-29T17:10:17.860416Z",
     "iopub.status.busy": "2020-09-29T17:10:17.850028Z",
     "iopub.status.idle": "2020-09-29T17:11:25.801525Z",
     "shell.execute_reply": "2020-09-29T17:11:25.800871Z"
    },
    "papermill": {
     "duration": 67.977252,
     "end_time": "2020-09-29T17:11:25.801661",
     "exception": false,
     "start_time": "2020-09-29T17:10:17.824409",
     "status": "completed"
    },
    "tags": []
   },
   "outputs": [],
   "source": [
    "import tensorflow as tf\n",
    "\n",
    "from tensorflow.keras.applications import MobileNetV2\n",
    "from tensorflow.keras.applications.mobilenet_v2 import preprocess_input\n",
    "from tensorflow.keras.layers import Dropout, MaxPooling2D, AveragePooling2D, Dense, Flatten, Input, Conv2D, add, Activation\n",
    "from tensorflow.keras.layers import (Dense, Dropout, Activation, Flatten, Reshape, Layer,\n",
    "                          BatchNormalization, LocallyConnected2D,\n",
    "                          ZeroPadding2D, Conv2D, MaxPooling2D, Conv2DTranspose,\n",
    "                          GaussianNoise, UpSampling2D, Input)\n",
    "\n",
    "from tensorflow.keras.utils import plot_model\n",
    "from tensorflow.keras.layers import BatchNormalization\n",
    "from tensorflow.keras.models import Sequential , Model , load_model\n",
    "from tensorflow.keras.preprocessing.image import load_img , img_to_array , ImageDataGenerator\n",
    "from tensorflow.keras.utils import to_categorical\n",
    "from tensorflow.keras.optimizers import Adam, SGD\n",
    "from tensorflow.keras.callbacks import ModelCheckpoint, ReduceLROnPlateau\n",
    "\n",
    "from sklearn.metrics import classification_report\n",
    "from sklearn.model_selection import train_test_split\n",
    "from sklearn.preprocessing import LabelBinarizer\n",
    "\n",
    "from PIL import Image\n",
    "import matplotlib.pyplot as plt\n",
    "\n",
    "import cv2\n",
    "from imutils import paths\n",
    "import numpy as np\n",
    "import os\n",
    "import time\n",
    "import warnings\n",
    "warnings.filterwarnings(\"ignore\")"
   ]
  },
  {
   "cell_type": "code",
   "execution_count": null,
   "metadata": {
    "_cell_guid": "79c7e3d0-c299-4dcb-8224-4455121ee9b0",
    "_uuid": "d629ff2d2480ee46fbb7e2d37f6b5fab8052498a",
    "execution": {
     "iopub.execute_input": "2020-09-29T17:11:25.960434Z",
     "iopub.status.busy": "2020-09-29T17:11:25.959592Z",
     "iopub.status.idle": "2020-09-29T17:11:25.965117Z",
     "shell.execute_reply": "2020-09-29T17:11:25.965741Z"
    },
    "papermill": {
     "duration": 0.089552,
     "end_time": "2020-09-29T17:11:25.965908",
     "exception": false,
     "start_time": "2020-09-29T17:11:25.876356",
     "status": "completed"
    },
    "tags": []
   },
   "outputs": [],
   "source": [
    "print(\"Tensorflow version: \",tf.__version__)"
   ]
  },
  {
   "cell_type": "code",
   "execution_count": null,
   "metadata": {
    "execution": {
     "iopub.execute_input": "2020-09-29T17:11:26.464215Z",
     "iopub.status.busy": "2020-09-29T17:11:26.463241Z",
     "iopub.status.idle": "2020-09-29T17:11:26.466428Z",
     "shell.execute_reply": "2020-09-29T17:11:26.465925Z"
    },
    "papermill": {
     "duration": 0.084621,
     "end_time": "2020-09-29T17:11:26.466535",
     "exception": false,
     "start_time": "2020-09-29T17:11:26.381914",
     "status": "completed"
    },
    "tags": []
   },
   "outputs": [],
   "source": [
    "\n",
    "train_dir = 'Train'\n",
    "test_dir = 'Test'\n",
    "\n",
    "image_size = 224"
   ]
  },
  {
   "cell_type": "code",
   "execution_count": null,
   "metadata": {
    "execution": {
     "iopub.execute_input": "2020-09-29T17:11:26.626716Z",
     "iopub.status.busy": "2020-09-29T17:11:26.626063Z",
     "iopub.status.idle": "2020-09-29T17:11:26.745847Z",
     "shell.execute_reply": "2020-09-29T17:11:26.745284Z"
    },
    "papermill": {
     "duration": 0.204086,
     "end_time": "2020-09-29T17:11:26.745959",
     "exception": false,
     "start_time": "2020-09-29T17:11:26.541873",
     "status": "completed"
    },
    "tags": []
   },
   "outputs": [],
   "source": [
    "batch_size = 32\n",
    "\n",
    "train_datagen = ImageDataGenerator(rescale = 1./255,\n",
    "                            rotation_range=45,\n",
    "                            zoom_range=0.40,\n",
    "                            width_shift_range=0.2,\n",
    "                            height_shift_range=0.2,\n",
    "                            shear_range=0.15,\n",
    "                            horizontal_flip=True,\n",
    "                            vertical_flip= True,\n",
    "                            fill_mode=\"nearest\")\n",
    "\n",
    "train_data = train_datagen.flow_from_directory(train_dir,\n",
    "                                              target_size=(150,150),\n",
    "                                              batch_size=32,\n",
    "                                              class_mode=\"categorical\")\n"
   ]
  },
  {
   "cell_type": "code",
   "execution_count": null,
   "metadata": {
    "execution": {
     "iopub.execute_input": "2020-09-29T17:11:26.924273Z",
     "iopub.status.busy": "2020-09-29T17:11:26.922329Z",
     "iopub.status.idle": "2020-09-29T17:11:27.037434Z",
     "shell.execute_reply": "2020-09-29T17:11:27.037904Z"
    },
    "papermill": {
     "duration": 0.204345,
     "end_time": "2020-09-29T17:11:27.038044",
     "exception": false,
     "start_time": "2020-09-29T17:11:26.833699",
     "status": "completed"
    },
    "tags": []
   },
   "outputs": [],
   "source": [
    "test_datagen = ImageDataGenerator(rescale = 1./255)\n",
    "\n",
    "test_data = test_datagen.flow_from_directory(test_dir,\n",
    "                                            target_size=(150,150),\n",
    "                                            batch_size=32,\n",
    "                                            class_mode=\"categorical\")"
   ]
  },
  {
   "cell_type": "code",
   "execution_count": null,
   "metadata": {
    "execution": {
     "iopub.execute_input": "2020-09-29T17:11:27.211649Z",
     "iopub.status.busy": "2020-09-29T17:11:27.210629Z",
     "iopub.status.idle": "2020-09-29T17:11:28.303223Z",
     "shell.execute_reply": "2020-09-29T17:11:28.303723Z"
    },
    "papermill": {
     "duration": 1.189673,
     "end_time": "2020-09-29T17:11:28.303898",
     "exception": false,
     "start_time": "2020-09-29T17:11:27.114225",
     "status": "completed"
    },
    "tags": []
   },
   "outputs": [],
   "source": [
    "\n",
    "#=================================================================\n",
    "chanDim = 1\n",
    "model = Sequential(name=\"SoilNet\")\n",
    "model.add(Conv2D(32, (3, 3), padding=\"same\",input_shape=(150,150,3)))\n",
    "model.add(Activation(\"relu\"))\n",
    "\n",
    "model.add(MaxPooling2D(pool_size=(3, 3)))\n",
    "model.add(Dropout(0.25))\n",
    "\n",
    "model.add(Conv2D(64, (4, 4), padding=\"same\"))\n",
    "model.add(Activation(\"relu\"))\n",
    "\n",
    "model.add(Conv2D(64, (4, 4), padding=\"same\"))\n",
    "model.add(Activation(\"relu\"))\n",
    "model.add(MaxPooling2D(pool_size=(2, 2)))\n",
    "model.add(Dropout(0.25))\n",
    "\n",
    "model.add(Conv2D(128, (4, 4), padding=\"same\"))\n",
    "model.add(Activation(\"relu\"))\n",
    "\n",
    "model.add(Conv2D(128, (4, 4), padding=\"same\"))\n",
    "model.add(Activation(\"relu\"))\n",
    "model.add(MaxPooling2D(pool_size=(2, 2)))\n",
    "model.add(Dropout(0.25))\n",
    "\n",
    "model.add(Flatten())\n",
    "model.add(Dense(1024))\n",
    "model.add(BatchNormalization())\n",
    "model.add(Dropout(0.5))\n",
    "model.add(Dense(4))\n",
    "model.add(Activation(\"softmax\"))\n",
    "\n",
    "\n",
    "model.compile(optimizer=\"adam\",loss=\"categorical_crossentropy\",metrics=[\"accuracy\"])\n",
    "reduction_lr = ReduceLROnPlateau(monitor = \"val_accuracy\",patience = 2 ,verbose = 1, factor = 0.2, min_lr = 0.00001)\n",
    "model.summary()\n",
    "plot_model(model,show_shapes=True)\n"
   ]
  },
  {
   "cell_type": "code",
   "execution_count": null,
   "metadata": {},
   "outputs": [],
   "source": [
    "pip install graphviz"
   ]
  },
  {
   "cell_type": "code",
   "execution_count": null,
   "metadata": {
    "execution": {
     "iopub.execute_input": "2020-09-29T17:11:28.500252Z",
     "iopub.status.busy": "2020-09-29T17:11:28.499356Z",
     "iopub.status.idle": "2020-09-29T17:11:28.502531Z",
     "shell.execute_reply": "2020-09-29T17:11:28.501987Z"
    },
    "papermill": {
     "duration": 0.119525,
     "end_time": "2020-09-29T17:11:28.502632",
     "exception": false,
     "start_time": "2020-09-29T17:11:28.383107",
     "status": "completed"
    },
    "tags": []
   },
   "outputs": [],
   "source": [
    "callback_list = [reduction_lr]"
   ]
  },
  {
   "cell_type": "code",
   "execution_count": null,
   "metadata": {
    "execution": {
     "iopub.execute_input": "2020-09-29T17:11:28.721691Z",
     "iopub.status.busy": "2020-09-29T17:11:28.720379Z",
     "iopub.status.idle": "2020-09-29T17:50:38.344386Z",
     "shell.execute_reply": "2020-09-29T17:50:38.343457Z"
    },
    "papermill": {
     "duration": 2349.761742,
     "end_time": "2020-09-29T17:50:38.344572",
     "exception": false,
     "start_time": "2020-09-29T17:11:28.582830",
     "status": "completed"
    },
    "tags": []
   },
   "outputs": [],
   "source": [
    "#bot_callback = botCallback(access_token)\n",
    "#plotter = Plotter(access_token)\n",
    "#callback_list = [bot_callback,plotter] callbacks=callback_list\n",
    "start = time.time()\n",
    "\n",
    "history = model.fit_generator(train_data,\n",
    "                    steps_per_epoch = 30,\n",
    "                    validation_data = test_data,\n",
    "                    validation_steps = 30,\n",
    "                    epochs=20,\n",
    "                    callbacks = callback_list)\n",
    "end = time.time()\n",
    "print(\"Total train time: \",(end-start)/60,\" mins\")"
   ]
  },
  {
   "cell_type": "code",
   "execution_count": null,
   "metadata": {
    "execution": {
     "iopub.execute_input": "2020-09-29T17:50:38.975288Z",
     "iopub.status.busy": "2020-09-29T17:50:38.973867Z",
     "iopub.status.idle": "2020-09-29T17:50:39.416650Z",
     "shell.execute_reply": "2020-09-29T17:50:39.417236Z"
    },
    "papermill": {
     "duration": 0.76281,
     "end_time": "2020-09-29T17:50:39.417403",
     "exception": false,
     "start_time": "2020-09-29T17:50:38.654593",
     "status": "completed"
    },
    "tags": []
   },
   "outputs": [],
   "source": [
    "def plot_graph(history,string):\n",
    "    plt.figure(figsize=(12,8))\n",
    "    plt.plot(history.history[string],label=str(string))\n",
    "    plt.plot(history.history[\"val_\"+str(string)],label=\"val_\"+str(string))\n",
    "    plt.xlabel(\"Epochs\")\n",
    "    plt.ylabel(str(string))\n",
    "    plt.legend()\n",
    "    plt.show()\n",
    "plot_graph(history,\"accuracy\")\n",
    "plot_graph(history,\"loss\")"
   ]
  },
  {
   "cell_type": "code",
   "execution_count": null,
   "metadata": {
    "execution": {
     "iopub.execute_input": "2020-09-29T17:50:40.091321Z",
     "iopub.status.busy": "2020-09-29T17:50:40.090260Z",
     "iopub.status.idle": "2020-09-29T17:50:40.403052Z",
     "shell.execute_reply": "2020-09-29T17:50:40.402481Z"
    },
    "papermill": {
     "duration": 0.656959,
     "end_time": "2020-09-29T17:50:40.403228",
     "exception": false,
     "start_time": "2020-09-29T17:50:39.746269",
     "status": "completed"
    },
    "tags": []
   },
   "outputs": [],
   "source": [
    "model.save(\"SoilNet.h5\")"
   ]
  },
  {
   "cell_type": "code",
   "execution_count": null,
   "metadata": {
    "execution": {
     "iopub.execute_input": "2020-09-29T17:50:41.048859Z",
     "iopub.status.busy": "2020-09-29T17:50:41.048188Z",
     "iopub.status.idle": "2020-09-29T17:50:41.055077Z",
     "shell.execute_reply": "2020-09-29T17:50:41.054485Z"
    },
    "papermill": {
     "duration": 0.3298,
     "end_time": "2020-09-29T17:50:41.055201",
     "exception": false,
     "start_time": "2020-09-29T17:50:40.725401",
     "status": "completed"
    },
    "tags": []
   },
   "outputs": [],
   "source": [
    "from IPython.display import FileLink\n",
    "FileLink('SoilNet.h5')\n"
   ]
  },
  {
   "cell_type": "code",
   "execution_count": null,
   "metadata": {
    "papermill": {
     "duration": 0.320658,
     "end_time": "2020-09-29T17:50:41.704291",
     "exception": false,
     "start_time": "2020-09-29T17:50:41.383633",
     "status": "completed"
    },
    "tags": []
   },
   "outputs": [],
   "source": [
    "# It can be used to reconstruct the model identically.\n",
    "import tensorflow.keras\n",
    "reconstructed_model =tensorflow.keras.models.load_model(\"SoilNet_93_86.h5\")\n"
   ]
  },
  {
   "cell_type": "code",
   "execution_count": null,
   "metadata": {
    "papermill": {
     "duration": 0.321807,
     "end_time": "2020-09-29T17:50:42.348843",
     "exception": false,
     "start_time": "2020-09-29T17:50:42.027036",
     "status": "completed"
    },
    "tags": []
   },
   "outputs": [],
   "source": []
  },
  {
   "cell_type": "code",
   "execution_count": null,
   "metadata": {
    "papermill": {
     "duration": 0.488903,
     "end_time": "2020-09-29T17:50:43.238464",
     "exception": false,
     "start_time": "2020-09-29T17:50:42.749561",
     "status": "completed"
    },
    "tags": []
   },
   "outputs": [],
   "source": []
  }
 ],
 "metadata": {
  "kernelspec": {
   "display_name": "Python 3",
   "language": "python",
   "name": "python3"
  },
  "language_info": {
   "codemirror_mode": {
    "name": "ipython",
    "version": 3
   },
   "file_extension": ".py",
   "mimetype": "text/x-python",
   "name": "python",
   "nbconvert_exporter": "python",
   "pygments_lexer": "ipython3",
   "version": "3.7.10"
  },
  "papermill": {
   "duration": 2431.440235,
   "end_time": "2020-09-29T17:50:44.814809",
   "environment_variables": {},
   "exception": null,
   "input_path": "__notebook__.ipynb",
   "output_path": "__notebook__.ipynb",
   "parameters": {},
   "start_time": "2020-09-29T17:10:13.374574",
   "version": "2.1.0"
  }
 },
 "nbformat": 4,
 "nbformat_minor": 4
}
