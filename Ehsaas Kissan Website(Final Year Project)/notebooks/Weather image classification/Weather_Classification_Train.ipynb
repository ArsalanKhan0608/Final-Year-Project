{
 "cells": [
  {
   "cell_type": "code",
   "execution_count": null,
   "metadata": {
    "colab": {},
    "colab_type": "code",
    "id": "TRZiv9DTDBdq"
   },
   "outputs": [],
   "source": [
    "#Importing all the libraries\n",
    "import os\n",
    "import numpy as np\n",
    "import matplotlib.pyplot as plt\n",
    "#Keras\n",
    "import tensorflow.keras\n",
    "import tensorflow.keras.backend as K \n",
    "from tensorflow.keras.models import Model, Sequential\n",
    "from tensorflow.keras.layers import Dense, Dropout, Add, Input, BatchNormalization, Activation\n",
    "from tensorflow.keras.layers import  Conv2D, MaxPooling2D, GlobalAveragePooling2D\n",
    "from tensorflow.keras.optimizers import Adam\n",
    "from tensorflow.keras import callbacks\n",
    "from tensorflow.keras.preprocessing.image import ImageDataGenerator, load_img, img_to_array, array_to_img\n",
    "from tensorflow.keras.models import load_model\n",
    "#Scikit-Learn\n",
    "from sklearn.metrics import classification_report, confusion_matrix"
   ]
  },
  {
   "cell_type": "code",
   "execution_count": null,
   "metadata": {
    "colab": {},
    "colab_type": "code",
    "id": "0isTmT_LtP5p"
   },
   "outputs": [],
   "source": [
    "#Defining training and validation directories\n",
    "train_data_dir=r'dataset2'\n",
    "val_data_dir=r'dataset2\\cloudy'"
   ]
  },
  {
   "cell_type": "markdown",
   "metadata": {
    "colab_type": "text",
    "id": "RDml7SkXgr5_"
   },
   "source": [
    "# Defining Data Generators"
   ]
  },
  {
   "cell_type": "code",
   "execution_count": null,
   "metadata": {
    "colab": {
     "base_uri": "https://localhost:8080/",
     "height": 55
    },
    "colab_type": "code",
    "id": "KP293r3iOXaf",
    "outputId": "c70a69c0-40e7-4165-dd2b-c1865b78cc1b"
   },
   "outputs": [],
   "source": [
    "target_size = (250, 250)\n",
    "batch_size = 32\n",
    "\n",
    "#Data Generator for training samples\n",
    "train_datagen = ImageDataGenerator(rescale = 1./255,\n",
    "                                   shear_range = 0.2,\n",
    "                                   zoom_range = 0.2,\n",
    "                                   horizontal_flip = True,\n",
    "                                   width_shift_range=0.2,\n",
    "                                   height_shift_range=0.2,\n",
    "                                   rotation_range=15,\n",
    "                                   fill_mode='reflect',\n",
    "                                   data_format='channels_last',\n",
    "                                   brightness_range=[0.5, 1.5])\n",
    "\n",
    "#Data Generator for validation samples with no augmentation\n",
    "test_datagen = ImageDataGenerator(rescale = 1./255)\n",
    "\n",
    "train_generator = train_datagen.flow_from_directory(train_data_dir,\n",
    "                                                 target_size = target_size,\n",
    "                                                 batch_size = batch_size,\n",
    "                                                 class_mode = 'categorical',\n",
    "                                                 shuffle=True)\n",
    "\n",
    "validation_generator = test_datagen.flow_from_directory(val_data_dir,\n",
    "                                                 target_size = target_size,\n",
    "                                                 batch_size = batch_size,\n",
    "                                                 class_mode = 'categorical',\n",
    "                                                 shuffle=True)"
   ]
  },
  {
   "cell_type": "markdown",
   "metadata": {
    "colab_type": "text",
    "id": "C9YGPZTBJNwz"
   },
   "source": [
    "# BUILDING CNN ARCHITECTURE"
   ]
  },
  {
   "cell_type": "code",
   "execution_count": null,
   "metadata": {
    "colab": {},
    "colab_type": "code",
    "id": "gwP_3CNFJlJm"
   },
   "outputs": [],
   "source": [
    "class Architecture:\n",
    "    \n",
    "    @staticmethod\n",
    "    def build(width, height, depth, classes, finalAct=\"softmax\"):\n",
    "        \n",
    "        \"\"\"\n",
    "        This function builds a sequential CNN model and returns the model\n",
    "\n",
    "        Parameters:\n",
    "        width: width of the input image\n",
    "        height: height of the input image\n",
    "        depth: Number of channels\n",
    "        classes: Number of classes to classify\n",
    "        finalAct: THe activation funtion for the output node\n",
    "        \"\"\"\n",
    "        \n",
    "        inputShape = (height, width, depth)\n",
    "        chanDim = -1\n",
    "\n",
    "        #Checking for data_format\n",
    "        if K.image_data_format() == \"channels_first\":\n",
    "            inputShape = (depth, height, width)\n",
    "            chanDim = 1\n",
    "\n",
    "        #Initializing the he_uniform kernel for weights\n",
    "        initializer=tensorflow.keras.initializers.he_uniform(seed=200)\n",
    "\n",
    "        #Sequential Model Building\n",
    "        model = Sequential()\n",
    "\n",
    "        #BLOCK 1\n",
    "        model.add(Conv2D(filters = 32, kernel_size = (3,3),padding = 'same',\n",
    "                         input_shape = inputShape, kernel_initializer=initializer))\n",
    "        model.add(BatchNormalization(axis=chanDim))\n",
    "        model.add(Activation(\"relu\"))\n",
    "        model.add(Conv2D(filters = 32, kernel_size = (3,3),padding = 'same',kernel_initializer=initializer))\n",
    "        model.add(Activation(\"relu\"))\n",
    "        model.add(BatchNormalization(axis=chanDim))\n",
    "        model.add(MaxPooling2D(pool_size=(2,2)))\n",
    "\n",
    "        #BLOCK 2\n",
    "        model.add(Conv2D(filters = 64, kernel_size = (3,3),padding = 'same',kernel_initializer=initializer))\n",
    "        model.add(BatchNormalization(axis=chanDim))\n",
    "        model.add(Activation(\"relu\"))\n",
    "        model.add(Conv2D(filters = 64, kernel_size = (3,3),padding = 'same',kernel_initializer=initializer))\n",
    "        model.add(BatchNormalization(axis=chanDim))\n",
    "        model.add(Activation(\"relu\"))\n",
    "        model.add(MaxPooling2D(pool_size=(2,2), strides=(2,2)))\n",
    "\n",
    "        #BLOCK 3\n",
    "        model.add(Conv2D(filters = 128, kernel_size = (3,3),padding = 'same',kernel_initializer=initializer))\n",
    "        model.add(BatchNormalization(axis=chanDim))\n",
    "        model.add(Activation(\"relu\"))\n",
    "        model.add(Conv2D(filters = 128, kernel_size = (3,3),padding = 'same',kernel_initializer=initializer))\n",
    "        model.add(BatchNormalization(axis=chanDim))\n",
    "        model.add(Activation(\"relu\"))\n",
    "        model.add(MaxPooling2D(pool_size=(2,2), strides=(2,2)))\n",
    "\n",
    "        #BLOCK 4 \n",
    "        model.add(Conv2D(filters = 256, kernel_size = (5,5),padding = 'same',kernel_initializer=initializer))\n",
    "        model.add(BatchNormalization(axis=chanDim))\n",
    "        model.add(Activation(\"relu\"))\n",
    "        model.add(Conv2D(filters = 256, kernel_size = (5,5),padding = 'same',kernel_initializer=initializer))\n",
    "        model.add(BatchNormalization(axis=chanDim))\n",
    "        model.add(Activation(\"relu\"))\n",
    "        model.add(MaxPooling2D(pool_size=(2,2), strides=(2,2)))\n",
    "\n",
    "        #Classifier\n",
    "        model.add(GlobalAveragePooling2D())\n",
    "        model.add(Dense(512, activation = \"relu\",kernel_initializer=initializer))\n",
    "        model.add(Dropout(0.5))\n",
    "        model.add(Dense(128, activation = \"relu\",kernel_initializer=initializer))\n",
    "        model.add(Dropout(0.5))\n",
    "        model.add(Dense(classes, activation = finalAct))\n",
    "\n",
    "        return model"
   ]
  },
  {
   "cell_type": "code",
   "execution_count": null,
   "metadata": {
    "colab": {},
    "colab_type": "code",
    "id": "LAstU5I1ueAN"
   },
   "outputs": [],
   "source": [
    "#initialize the number of epochs to train for, initial learning rate, batch size, and image dimensions\n",
    "epochs = 100\n",
    "batch_size = 16\n",
    "img_dims = (250, 250, 3)"
   ]
  },
  {
   "cell_type": "code",
   "execution_count": null,
   "metadata": {
    "colab": {},
    "colab_type": "code",
    "id": "ongZtFYZCVm0"
   },
   "outputs": [],
   "source": [
    "#Calling build function to build a sequential model\n",
    "model = Architecture.build(\n",
    "    width=img_dims[0], \n",
    "    height=img_dims[1],\n",
    "    depth=img_dims[2], \n",
    "    classes=4)"
   ]
  },
  {
   "cell_type": "code",
   "execution_count": null,
   "metadata": {
    "colab": {
     "base_uri": "https://localhost:8080/",
     "height": 1000
    },
    "colab_type": "code",
    "id": "9fUalaZIiXzE",
    "outputId": "6fa6078f-4d23-44f3-f6b8-754191dffec7"
   },
   "outputs": [],
   "source": [
    "model.summary()"
   ]
  },
  {
   "cell_type": "code",
   "execution_count": null,
   "metadata": {
    "colab": {
     "base_uri": "https://localhost:8080/",
     "height": 1000
    },
    "colab_type": "code",
    "id": "HuCco7VznWut",
    "outputId": "5612d01a-645a-42b2-d3ca-7287d96fbbd5"
   },
   "outputs": [],
   "source": [
    "#Saving the model structure to visualize\n",
    "from tensorflow.keras.utils import plot_model\n",
    "plot_model(model, to_file='model.png')"
   ]
  },
  {
   "cell_type": "code",
   "execution_count": null,
   "metadata": {
    "colab": {},
    "colab_type": "code",
    "id": "8HxTrQ_XiZLH"
   },
   "outputs": [],
   "source": [
    "#Using Adam optimizer with an initial learning rate of 0.0001\n",
    "opt=Adam(learning_rate=0.001, beta_1=0.91, beta_2=0.999, epsilon=1e-08, decay=0.0)\n",
    "#Compile the model\n",
    "model.compile(optimizer=opt,loss=\"categorical_crossentropy\",metrics=[\"accuracy\"])"
   ]
  },
  {
   "cell_type": "code",
   "execution_count": null,
   "metadata": {
    "colab": {},
    "colab_type": "code",
    "id": "aX_x-wQFwxCU"
   },
   "outputs": [],
   "source": [
    "#Defining Callbacks\n",
    "def myCallbacks():\n",
    "    \"\"\"This function returns a list of callbacks\"\"\"\n",
    "\n",
    "    #Model Checkpoint\n",
    "    # file_path = r\"/content/drive/My Drive/weather_classification/MODEL.h5\"\n",
    "    # checkpoint = callbacks.ModelCheckpoint(file_path,monitor='val_acc',verbose=1,save_best_only=True,mode='auto')\n",
    "    #ReduceLROnPlateau\n",
    "    reduce_lr = callbacks.ReduceLROnPlateau(monitor='val_acc',factor=0.1,patience=5,min_lr=1e-30,cooldown=3,verbose=1)\n",
    "    #EarlyStopping\n",
    "    #es = callbacks.EarlyStopping(monitor='val_acc', mode='min', verbose=1, patience=15)\n",
    "    return [reduce_lr]"
   ]
  },
  {
   "cell_type": "code",
   "execution_count": null,
   "metadata": {
    "colab": {
     "base_uri": "https://localhost:8080/",
     "height": 1000
    },
    "colab_type": "code",
    "id": "3wigmdiYCFrL",
    "outputId": "b4f119b3-f2dc-4b09-9243-71793a635a3c"
   },
   "outputs": [],
   "source": [
    "#Training the model\n",
    "history = model.fit_generator(\n",
    "    train_generator,\n",
    "    steps_per_epoch = train_generator.n// batch_size,\n",
    "    validation_data = validation_generator, \n",
    "    validation_steps = validation_generator.n// batch_size,\n",
    "    epochs = epochs,\n",
    "    verbose=1,\n",
    "    callbacks=myCallbacks()\n",
    "    )"
   ]
  },
  {
   "cell_type": "markdown",
   "metadata": {
    "colab_type": "text",
    "id": "HeRaOTcEOMQ3"
   },
   "source": [
    "# Model Evaluation"
   ]
  },
  {
   "cell_type": "code",
   "execution_count": null,
   "metadata": {},
   "outputs": [],
   "source": [
    "history.history"
   ]
  },
  {
   "cell_type": "code",
   "execution_count": null,
   "metadata": {
    "colab": {
     "base_uri": "https://localhost:8080/",
     "height": 295
    },
    "colab_type": "code",
    "id": "9f-gTyWTCDJ9",
    "outputId": "76951300-e12f-470b-8417-b52b842ae854"
   },
   "outputs": [],
   "source": [
    "# Plot training & validation accuracy values\n",
    "plt.plot(history.history['acc'])\n",
    "plt.plot(history.history['val_acc'])\n",
    "plt.title('Model accuracy')\n",
    "plt.ylabel('Accuracy')\n",
    "plt.xlabel('Epoch')\n",
    "plt.legend(['Train', 'Test'], loc='upper left')\n",
    "plt.show()"
   ]
  },
  {
   "cell_type": "code",
   "execution_count": null,
   "metadata": {
    "colab": {
     "base_uri": "https://localhost:8080/",
     "height": 295
    },
    "colab_type": "code",
    "id": "cF-ml0sl8k8k",
    "outputId": "75a19dea-56f1-49a1-d59a-f6f5c0efc26e"
   },
   "outputs": [],
   "source": [
    "# Plot training & validation loss values\n",
    "plt.plot(history.history['loss'])\n",
    "plt.plot(history.history['val_loss'])\n",
    "plt.title('Model loss')\n",
    "plt.ylabel('Loss')\n",
    "plt.xlabel('Epoch')\n",
    "plt.legend(['Train', 'Test'], loc='upper left')\n",
    "plt.show()"
   ]
  },
  {
   "cell_type": "code",
   "execution_count": null,
   "metadata": {
    "colab": {
     "base_uri": "https://localhost:8080/",
     "height": 36
    },
    "colab_type": "code",
    "id": "602H4lf89gwO",
    "outputId": "11dba060-832a-4dca-96e2-88c395ac6bfe"
   },
   "outputs": [],
   "source": [
    "model.evaluate_generator(train_generator, steps=None, callbacks=None, max_queue_size=10, workers=1, use_multiprocessing=False, verbose=0)"
   ]
  },
  {
   "cell_type": "markdown",
   "metadata": {
    "colab_type": "text",
    "id": "NJCr9EDVg-3b"
   },
   "source": [
    "So the maximum accuracy i got 95% with the minimum loss of 0.11"
   ]
  },
  {
   "cell_type": "code",
   "execution_count": null,
   "metadata": {
    "colab": {},
    "colab_type": "code",
    "id": "JmQ-UOil96Y3"
   },
   "outputs": [],
   "source": [
    "#Saving the model\n",
    "model.save(\"/content/drive/My Drive/weather_classification/final_model.h5\")"
   ]
  },
  {
   "cell_type": "markdown",
   "metadata": {
    "colab_type": "text",
    "id": "35LOio2f_QWp"
   },
   "source": [
    "# Classification Report"
   ]
  },
  {
   "cell_type": "code",
   "execution_count": null,
   "metadata": {
    "colab": {
     "base_uri": "https://localhost:8080/",
     "height": 36
    },
    "colab_type": "code",
    "id": "wi0T2kVX-4fH",
    "outputId": "1b8a852d-2220-4f89-9a22-66e202c13fc8"
   },
   "outputs": [],
   "source": [
    "#Defining a test data generator for making predictions on the complete test folder\n",
    "test_datagen = ImageDataGenerator(rescale=1./255)\n",
    "test_dir = '/content/drive/My Drive/weather_classification/weatherDataset.zip (Unzipped Files)/weatherDataset/val'\n",
    "test_generator = test_datagen.flow_from_directory(\n",
    "        test_dir,\n",
    "        target_size=(250, 250),\n",
    "        color_mode=\"rgb\",\n",
    "        shuffle = False,\n",
    "        class_mode='categorical',\n",
    "        batch_size=1)"
   ]
  },
  {
   "cell_type": "code",
   "execution_count": null,
   "metadata": {
    "colab": {},
    "colab_type": "code",
    "id": "GmC9tt7a_cQN"
   },
   "outputs": [],
   "source": [
    "filenames = test_generator.filenames\n",
    "nb_samples = len(filenames)"
   ]
  },
  {
   "cell_type": "code",
   "execution_count": null,
   "metadata": {
    "colab": {},
    "colab_type": "code",
    "id": "87XQSd-f_c4a"
   },
   "outputs": [],
   "source": [
    "#Making predictions\n",
    "predict = model.predict_generator(test_generator,steps = nb_samples)"
   ]
  },
  {
   "cell_type": "code",
   "execution_count": null,
   "metadata": {
    "colab": {},
    "colab_type": "code",
    "id": "Kx53rwFW_gyb"
   },
   "outputs": [],
   "source": [
    "#Getting predicted classes with higher probability using argmax \n",
    "predicted_classes = predict.argmax(axis=-1)"
   ]
  },
  {
   "cell_type": "code",
   "execution_count": null,
   "metadata": {
    "colab": {
     "base_uri": "https://localhost:8080/",
     "height": 227
    },
    "colab_type": "code",
    "id": "sosrf21Y_mnO",
    "outputId": "7b186235-ae3b-4d90-bf62-5ff2f7bd9030"
   },
   "outputs": [],
   "source": [
    "#Classification Report\n",
    "print(classification_report(test_generator.classes, predicted_classes))"
   ]
  },
  {
   "cell_type": "code",
   "execution_count": null,
   "metadata": {
    "colab": {
     "base_uri": "https://localhost:8080/",
     "height": 94
    },
    "colab_type": "code",
    "id": "Wrh7YjkA_tS_",
    "outputId": "f25cf47b-4e38-4a4d-86fa-c0a0f0a07d4a"
   },
   "outputs": [],
   "source": [
    "#Confusion matrix\n",
    "confusion_matrix(test_generator.classes, predicted_classes)"
   ]
  },
  {
   "cell_type": "markdown",
   "metadata": {
    "colab_type": "text",
    "id": "6Pdt7QmZXKP7"
   },
   "source": [
    "# Predictions\n",
    "## I have downloaded random images from web for making predictions"
   ]
  },
  {
   "cell_type": "code",
   "execution_count": null,
   "metadata": {
    "colab": {},
    "colab_type": "code",
    "id": "130ZE8nufgqL"
   },
   "outputs": [],
   "source": [
    "#Loading the model to make predictions\n",
    "model = load_model('/content/drive/My Drive/weather_classification/final_model.h5')"
   ]
  },
  {
   "cell_type": "code",
   "execution_count": null,
   "metadata": {
    "colab": {},
    "colab_type": "code",
    "id": "YvLcDF0cU0q8"
   },
   "outputs": [],
   "source": [
    "def predict(path):\n",
    "    \"\"\"This functions returns predictions for a given input image\n",
    "\n",
    "    Parameters: \n",
    "    path: path of the image to predict\n",
    "\n",
    "    \"\"\"\n",
    "    #Creating a dictionary of classes as the predict function gives probablities\n",
    "    actualClasses = { 0:'Cloudy',1:'Rain',2:'Shine',3:'Sunrise' }\n",
    "\n",
    "    img = load_img(path, target_size=(250, 250))\n",
    "    img_array = img_to_array(img)\n",
    "\n",
    "    #Plotting the image\n",
    "    plt.imshow(img_array/255)\n",
    "    plt.show()\n",
    "    img_array = np.expand_dims(img_array, axis=0)\n",
    "\n",
    "    #Prediction\n",
    "    pred = model.predict(img_array)\n",
    "    classes = np.argmax(pred)\n",
    "    return 'Predicted Class for the input image : {}'.format(actualClasses[classes])"
   ]
  },
  {
   "cell_type": "code",
   "execution_count": null,
   "metadata": {
    "colab": {
     "base_uri": "https://localhost:8080/",
     "height": 227
    },
    "colab_type": "code",
    "id": "7nxm89vsCAIb",
    "outputId": "dc83630e-937f-450f-c979-83a17b957851"
   },
   "outputs": [],
   "source": [
    "!wget https://pramanaexperience.com/wp-content/uploads/2019/09/mount-batur-sunrise-trekking.jpg"
   ]
  },
  {
   "cell_type": "code",
   "execution_count": null,
   "metadata": {
    "colab": {
     "base_uri": "https://localhost:8080/",
     "height": 288
    },
    "colab_type": "code",
    "id": "5tMmEsiNXnNl",
    "outputId": "1f3d3efd-a750-4abd-871b-aadbe86a5ff3"
   },
   "outputs": [],
   "source": [
    "predict(path=\"/content/mount-batur-sunrise-trekking.jpg\")"
   ]
  },
  {
   "cell_type": "code",
   "execution_count": null,
   "metadata": {
    "colab": {
     "base_uri": "https://localhost:8080/",
     "height": 227
    },
    "colab_type": "code",
    "id": "bxhmCZYLA9qu",
    "outputId": "2deb4b96-0f86-47b7-e1fe-38a5f0b5cee3"
   },
   "outputs": [],
   "source": [
    "!wget https://c.ndtvimg.com/2019-09/psjsc54_heavy-rain-in-mumbai_625x300_04_September_19.jpg"
   ]
  },
  {
   "cell_type": "code",
   "execution_count": null,
   "metadata": {
    "colab": {
     "base_uri": "https://localhost:8080/",
     "height": 288
    },
    "colab_type": "code",
    "id": "7u0xk1HuAEPF",
    "outputId": "e58731f3-c80b-4654-993f-81f651e29cf8"
   },
   "outputs": [],
   "source": [
    "predict(path=\"/content/psjsc54_heavy-rain-in-mumbai_625x300_04_September_19.jpg\")"
   ]
  },
  {
   "cell_type": "code",
   "execution_count": null,
   "metadata": {
    "colab": {
     "base_uri": "https://localhost:8080/",
     "height": 246
    },
    "colab_type": "code",
    "id": "36S807lGWuOd",
    "outputId": "6bf4ed40-6b64-4351-b8ac-6a1e9987f491"
   },
   "outputs": [],
   "source": [
    "!wget https://miro.medium.com/max/10830/0*c7Q-GSzNAEg3V2Fu"
   ]
  },
  {
   "cell_type": "code",
   "execution_count": null,
   "metadata": {
    "colab": {
     "base_uri": "https://localhost:8080/",
     "height": 288
    },
    "colab_type": "code",
    "id": "HNcoDP-eWyHz",
    "outputId": "cb6f7a5a-59a4-4d26-9054-2dd4910d4266"
   },
   "outputs": [],
   "source": [
    "predict(path=\"/content/0*c7Q-GSzNAEg3V2Fu\")"
   ]
  },
  {
   "cell_type": "code",
   "execution_count": null,
   "metadata": {
    "colab": {
     "base_uri": "https://localhost:8080/",
     "height": 399
    },
    "colab_type": "code",
    "id": "4IfGaUACa65J",
    "outputId": "b49a7a83-b7f1-4436-abab-b1db431803b7"
   },
   "outputs": [],
   "source": [
    "!wget http://e993.com/forex/imgs/gabans.files.wordpress.com/2012/04/dark-clouds.jpg"
   ]
  },
  {
   "cell_type": "code",
   "execution_count": null,
   "metadata": {
    "colab": {
     "base_uri": "https://localhost:8080/",
     "height": 288
    },
    "colab_type": "code",
    "id": "bVZLGMcebqu5",
    "outputId": "ee816712-4652-4906-a0d0-80542bd8b3ec"
   },
   "outputs": [],
   "source": [
    "predict(path=\"/content/dark-clouds.jpg\")"
   ]
  },
  {
   "cell_type": "code",
   "execution_count": null,
   "metadata": {
    "colab": {
     "base_uri": "https://localhost:8080/",
     "height": 227
    },
    "colab_type": "code",
    "id": "mVjJm-4rb935",
    "outputId": "813838eb-660e-4436-c895-f94d955db4d9"
   },
   "outputs": [],
   "source": [
    "!wget https://images.pond5.com/dark-cloudy-day-brooklyn-neighborhood-footage-082056671_iconl.jpeg"
   ]
  },
  {
   "cell_type": "code",
   "execution_count": null,
   "metadata": {
    "colab": {
     "base_uri": "https://localhost:8080/",
     "height": 288
    },
    "colab_type": "code",
    "id": "O18XtPVIcDHK",
    "outputId": "2ef58228-fd43-4b39-9c8a-5754d5e7c1aa"
   },
   "outputs": [],
   "source": [
    "predict(path=\"/content/dark-cloudy-day-brooklyn-neighborhood-footage-082056671_iconl.jpeg\")"
   ]
  },
  {
   "cell_type": "markdown",
   "metadata": {},
   "source": [
    "# Conclusion\n",
    "Trained A CNN classifer from scratch to classify Weather Images with validation accuracy=95.796%"
   ]
  }
 ],
 "metadata": {
  "accelerator": "GPU",
  "colab": {
   "collapsed_sections": [],
   "name": "Weather_Classification.ipynb",
   "provenance": []
  },
  "kernelspec": {
   "display_name": "Python 3",
   "language": "python",
   "name": "python3"
  },
  "language_info": {
   "codemirror_mode": {
    "name": "ipython",
    "version": 3
   },
   "file_extension": ".py",
   "mimetype": "text/x-python",
   "name": "python",
   "nbconvert_exporter": "python",
   "pygments_lexer": "ipython3",
   "version": "3.7.10"
  }
 },
 "nbformat": 4,
 "nbformat_minor": 1
}
