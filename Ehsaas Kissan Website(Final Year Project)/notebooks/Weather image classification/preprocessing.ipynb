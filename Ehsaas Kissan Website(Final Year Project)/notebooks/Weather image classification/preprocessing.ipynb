{
 "cells": [
  {
   "cell_type": "markdown",
   "metadata": {},
   "source": [
    "This notebook contains code for making a directory structure as per keras ImageDataGenerator needs.\n",
    "I have also increased the dataset using webscraping"
   ]
  },
  {
   "cell_type": "code",
   "execution_count": null,
   "metadata": {},
   "outputs": [],
   "source": [
    "import os\n",
    "import shutil"
   ]
  },
  {
   "cell_type": "code",
   "execution_count": null,
   "metadata": {},
   "outputs": [],
   "source": [
    "os.makedirs(r\"images\")"
   ]
  },
  {
   "cell_type": "code",
   "execution_count": null,
   "metadata": {},
   "outputs": [],
   "source": [
    "#Labels = {cloudy, rain, shine, sunrise}"
   ]
  },
  {
   "cell_type": "code",
   "execution_count": null,
   "metadata": {},
   "outputs": [],
   "source": [
    "#Original Dataset length\n",
    "len(os.listdir(r\"dataset2\"))"
   ]
  },
  {
   "cell_type": "markdown",
   "metadata": {},
   "source": [
    "# Making directory structure \n",
    "\n"
   ]
  },
  {
   "cell_type": "code",
   "execution_count": null,
   "metadata": {},
   "outputs": [],
   "source": [
    "#Custom funtion to move images to respective directories\n",
    "def imgtodir(destination, label):\n",
    "\n",
    "    \"\"\"\n",
    "    This function creates a keras compatible directory structure\n",
    "    \n",
    "    Parameters : \n",
    "    destination : destination path\n",
    "    label : Label of an image\n",
    "    \"\"\"\n",
    "    \n",
    "    source = r\"dataset2\"\n",
    "    \n",
    "    if not os.path.exists(destination):\n",
    "        os.makedirs(destination)\n",
    "        \n",
    "    for image in os.listdir(source):\n",
    "        if label in image:\n",
    "            shutil.copyfile(os.path.join(source, image), os.path.join(destination, image))\n",
    "    return 'Successfully moved ' + str(len(os.listdir(destination))) + ' images'\n"
   ]
  },
  {
   "cell_type": "code",
   "execution_count": null,
   "metadata": {},
   "outputs": [],
   "source": [
    "imgtodir(r\"./dataset2/cloudy\", \"cloudy\")"
   ]
  },
  {
   "cell_type": "code",
   "execution_count": null,
   "metadata": {},
   "outputs": [],
   "source": [
    "imgtodir(r\"C:\\Users\\Aaditya Ghag\\Desktop\\Task for weather classification\\data\\rain\", \"rain\")"
   ]
  },
  {
   "cell_type": "code",
   "execution_count": null,
   "metadata": {},
   "outputs": [],
   "source": [
    "imgtodir(r\"C:\\Users\\Aaditya Ghag\\Desktop\\Task for weather classification\\data\\shine\", \"shine\")"
   ]
  },
  {
   "cell_type": "code",
   "execution_count": null,
   "metadata": {},
   "outputs": [],
   "source": [
    "imgtodir(r\"C:\\Users\\Aaditya Ghag\\Desktop\\Task for weather classification\\data\\sunrise\", \"sunrise\")"
   ]
  },
  {
   "cell_type": "markdown",
   "metadata": {},
   "source": [
    "# Increasing dataset "
   ]
  },
  {
   "cell_type": "code",
   "execution_count": null,
   "metadata": {},
   "outputs": [],
   "source": [
    "def img_download(path, limit, keyword, format):\n",
    "    \n",
    "    \"\"\"\n",
    "    This function uses google_images_download library to download the images.\n",
    "    \n",
    "    If you want to download more than 100 images you need chromedriver installed in your system.\n",
    "    \n",
    "    Parameters : \n",
    "    \n",
    "    path : Allows you specify the main directory name in which the images are downloaded\n",
    "    \n",
    "    limit : Denotes number of images that you want to download.\n",
    "    \n",
    "    format : Denotes the format/extension of the image that you want to download.\n",
    "    \n",
    "    \"\"\"\n",
    "    \n",
    "    if not os.path.exists(path):\n",
    "        os.makedirs(path)\n",
    "    \n",
    "    #importing the library\n",
    "    from google_images_download import google_images_download  \n",
    "    #class instantiation\n",
    "    response = google_images_download.googleimagesdownload()   \n",
    "    arguments = {\"keywords\":keyword,\n",
    "                 \"limit\":limit,\n",
    "                 \"size\":\"medium\",\n",
    "                 \"chromedriver\":r\"C:\\webdrivers\\chromedriver.exe\",\n",
    "                 \"output_directory\":path}\n",
    "    paths = response.download(arguments)\n",
    "    print(paths) "
   ]
  },
  {
   "cell_type": "code",
   "execution_count": null,
   "metadata": {},
   "outputs": [],
   "source": [
    "img_download(\n",
    "    path=r\"images\",\n",
    "    limit=500,\n",
    "    keyword=\"blue sky with sun,cloudy weather,rain,sunrise,bright sunny sky,clouds,cloudy day,rain pictures\",\n",
    "    format=\"jpg\"\n",
    ")"
   ]
  },
  {
   "cell_type": "code",
   "execution_count": null,
   "metadata": {},
   "outputs": [],
   "source": [
    "img_download(\n",
    "    path=r\"C:\\Users\\Aaditya Ghag\\Desktop\\Task for weather classification\\images\",\n",
    "    limit=100,\n",
    "    keyword=\"tropical beach\",\n",
    "    format=\"jpg\"\n",
    ")"
   ]
  },
  {
   "cell_type": "markdown",
   "metadata": {},
   "source": [
    "# Splitting data into training, validation, and testing"
   ]
  },
  {
   "cell_type": "code",
   "execution_count": null,
   "metadata": {},
   "outputs": [],
   "source": [
    "!pip install split-folders"
   ]
  },
  {
   "cell_type": "code",
   "execution_count": null,
   "metadata": {},
   "outputs": [],
   "source": [
    "import split_folders\n",
    "orig_path = r'C:\\Users\\Aaditya Ghag\\Desktop\\Task for weather classification\\data'\n",
    "output_path = r'C:\\Users\\Aaditya Ghag\\Desktop\\Task for weather classification\\weatherDataset'\n",
    "### split for train :validation:tet == 75:20:05\n",
    "split_folders.ratio(orig_path, output=output_path, seed=2, ratio=(.8, .1,.1))"
   ]
  },
  {
   "cell_type": "markdown",
   "metadata": {},
   "source": [
    "I have combined validation dataset and testing dataset after the split"
   ]
  },
  {
   "cell_type": "code",
   "execution_count": null,
   "metadata": {},
   "outputs": [],
   "source": [
    "(train, val) = (0, 0)\n",
    "for root, dirs, files in os.walk(r\"C:\\Users\\Aaditya Ghag\\Desktop\\Task for weather classification\\weatherDataset\\train\"):\n",
    "    train += len(files)\n",
    "print('Train set size: ',train)\n",
    "\n",
    "for root, dirs, files in os.walk(r\"C:\\Users\\Aaditya Ghag\\Desktop\\Task for weather classification\\weatherDataset\\val\"):\n",
    "    val += len(files)\n",
    "print('Validation set size: ',val)"
   ]
  }
 ],
 "metadata": {
  "kernelspec": {
   "display_name": "Python 3",
   "language": "python",
   "name": "python3"
  },
  "language_info": {
   "codemirror_mode": {
    "name": "ipython",
    "version": 3
   },
   "file_extension": ".py",
   "mimetype": "text/x-python",
   "name": "python",
   "nbconvert_exporter": "python",
   "pygments_lexer": "ipython3",
   "version": "3.7.10"
  }
 },
 "nbformat": 4,
 "nbformat_minor": 2
}
